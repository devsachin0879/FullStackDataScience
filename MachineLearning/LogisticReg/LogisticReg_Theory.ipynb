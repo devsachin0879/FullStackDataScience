{
 "cells": [
  {
   "cell_type": "markdown",
   "metadata": {},
   "source": [
    "## Application Flow\n",
    "\n",
    "Logistic Regression is one of the most fundamental algorithms in the Machine Learning world.\n",
    "\n",
    "But before proceeding with the algorithm, let's first discuss the lifecycle of any ML model.This diagram explains the creation of a Machine Learning model from scratch and then taking the same model further with hyperparameter tuning to increase its accuracy, deciding the deployment strategies for that model and once deployed setting up the logging and monitoring frameworks to generate reports and dashboards based on the client requirements. A typical lifecycle diagram for a machine learning model looks like:\n",
    "\n",
    "<img src=\"MLApplicationFlow_bold.PNG\" width= \"300\">"
   ]
  },
  {
   "cell_type": "code",
   "execution_count": null,
   "metadata": {},
   "outputs": [],
   "source": []
  },
  {
   "cell_type": "markdown",
   "metadata": {},
   "source": [
    "__"
   ]
  },
  {
   "cell_type": "markdown",
   "metadata": {},
   "source": [
    "## Introduction\n",
    "In linear regression, the type of data we deal with is quantitative, whereas we use classification models to deal with qualitative data or categorical data. The algorithms used for solving a classification problem first predict the probability of each of the categories of the qualitative variables, as the basis for making the classification. And, as the probabilities are continuous numbers, classification using probabilities also behave like regression methods. \n",
    "Logistic regression is one such type of classification model which is used to classify the dependent variable into two or more classes or categories. \n",
    "\n",
    "###### Why don’t we use Linear regression for classification problems?\n",
    "\n",
    "\n",
    "Let’s suppose you took a survey and noted the response of each person as satisfied, neutral or Not satisfied.\n",
    "Let’s map each category:\n",
    "\n",
    "Satisfied – 2\n",
    "\n",
    "Neutral – 1\n",
    "\n",
    "Not Satisfied – 0\n",
    "\n",
    "But this doesn’t mean that the gap between Not satisfied and Neutral is same as Neutral and satisfied. There is no mathematical significance of these mapping. We can also map the categories like:\n",
    "\n",
    "Satisfied – 0\n",
    "\n",
    "Neutral – 1\n",
    "\n",
    "Not Satisfied – 2\n",
    "\n",
    "It’s completely fine to choose the above mapping. If we apply linear regression to both the type of mappings, we will get different sets of predictions. Also, we can get prediction values like 1.2, 0.8, 2.3 etc. which makes no sense for categorical values. So, there is no normal method to convert qualitative data into quantitative data for use in linear regression.\n",
    "Although, for binary classification, i.e. when there only two categorical values, using the least square method can give decent results. Suppose we have two categories Black and White and we map them as follows:\n",
    "\n",
    "Black – 0\n",
    "\n",
    "White - 1 \n",
    "\n",
    "We can assign predicted values for both the categories such as Y> 0.5 goes to class white and vice versa.\n",
    "Although, there will be some predictions for which the value can be greater than 1 or less than 0 making them hard to classify in any class. Nevertheless, linear regression can work decently for binary classification but not that well for multi-class classification. \n",
    "Hence, we use classification methods for dealing with such problems.\n"
   ]
  },
  {
   "cell_type": "markdown",
   "metadata": {},
   "source": [
    "## Logistic Regression\n",
    "\n",
    "Logistic regression is one such regression algorithm which can be used for performing classification problems. It calculates the probability that a given value belongs to a specific class. If the probability is more than 50%, it assigns the value in that particular class else if the probability is less than 50%, the value is assigned to the other class. Therefore, we can say that logistic regression acts as a binary classifier.\n",
    "\n",
    "###### Working of a Logistic Model\n",
    "For linear regression, the model is defined by:\n",
    "$y = \\beta_0 + \\beta_1x  $       - (i)\n",
    "\n",
    "and for logistic regression, we calculate probability, i.e. y is the probability of a given variable x belonging to a certain class. Thus, it is obvious that the value of y should lie between 0 and 1.\n",
    "\n",
    "But, when we use equation(i) to calculate probability, we would get values less than 0 as well as greater than 1. That doesn’t make any sense\n",
    ".\n",
    "So, we need to use such an equation which always gives values between 0 and 1, as we desire while calculating the probability.\n"
   ]
  },
  {
   "cell_type": "markdown",
   "metadata": {},
   "source": [
    "#### Sigmoid function \n",
    "\n",
    "We use the sigmoid function as the underlying function in Logistic regression. Mathematically and graphically, it is shown as:\n",
    "\n",
    "<img src=\"sigmoid.PNG\" width=\"300\">\n",
    "\n",
    "**Why do we use the Sigmoid Function?**\n",
    "\n",
    "1)\tThe sigmoid function’s range is bounded between 0 and 1. Thus it’s useful in calculating the probability for the  Logistic function.\n",
    "2)\t It’s derivative is easy to calculate than other functions which is useful during gradient descent calculation.\n",
    "3)\tIt is a simple way of introducing non-linearity to the model.\n",
    "\n",
    "Although there are other functions as well, which can be used, but sigmoid is the most common function used for logistic regression. We will talk about the rest of the functions in the neural network section.\n",
    "\n",
    "The logistic function is given as:\n",
    "\n",
    "<img src=\"logistic_function.PNG\" width=\"300\">\n",
    "\n",
    "Let’s see some manipulation with the logistic function: \n",
    "\n",
    "<img src=\"manip1.PNG\" width=\"300\">\n",
    "\n",
    "We can see that the logit function is linear in terms with x.\n"
   ]
  },
  {
   "cell_type": "markdown",
   "metadata": {},
   "source": [
    "**Prediction**\n",
    "\n",
    "<img src=\"prediction.PNG\" width=\"300\">\n"
   ]
  },
  {
   "cell_type": "markdown",
   "metadata": {},
   "source": [
    "**Cost Function**\n",
    "\n",
    "<img src=\"cf1.PNG\" width=\"300\">\n",
    "\n",
    "The cost function for the whole training set is given as :\n",
    "\n",
    "<img src=\"cf2.PNG\" width=\"300\">\n",
    "\n",
    "The values of parameters (θ) for which the cost function is minimum is calculated using the gradient descent (as discussed in the Linear Regression section) algorithm. The partial derivative for cost function is given as :\n",
    "\n",
    "<img src=\"derivative.PNG\" width=\"300\">"
   ]
  },
  {
   "cell_type": "markdown",
   "metadata": {},
   "source": [
    "### Multiple Logistic Function\n",
    "\n",
    "We can generalise the simple logistic function for multiple features as:\n",
    "<img src=\"multi.PNG\" width=\"300\">\n",
    "\n",
    "And the logit function can be written as:\n",
    "\n",
    "<img src=\"logit.PNG\" width=\"300\">\n",
    "\n",
    "The coefficients are calculated the same we did for simple logistic function, by passing the above equation in the cost function.\n",
    "\n",
    "Just like we did in multilinear regression, we will check for correlation between different features for Multi logistic as well.\n",
    "\n",
    "We will see how we implement all the above concept through a practical example.\n"
   ]
  },
  {
   "cell_type": "markdown",
   "metadata": {},
   "source": [
    "### Multinomial Logistics Regression( Number of Labels >2)\n",
    "\n",
    "Many times, there are classification problems where the number of classes is greater than 2. \n",
    "We can extend Logistic regression for multi-class classification. The logic is simple; we train our logistic model for each class and calculate the probability(hθx) that a specific feature belongs to that class. Once we have trained the model for all the classes, we predict a new value’s class by choosing that class for which the probability(hθx) is maximum.\n",
    "Although we have libraries that we can use to perform multinomial logistic regression, we rarely use logistic regression for classification problems where the number of classes is more than 2.\n",
    "There are many other classification models for such scenarios. We will see more of that in the coming lectures.\n"
   ]
  },
  {
   "cell_type": "markdown",
   "metadata": {},
   "source": [
    "### Learning Algorithm\n",
    "The learning algorithm is how we search the set of possible hypotheses (hypothesis space $\\mathcal{H}$) for the best parameterization (in this case the weight vector ${\\bf w}$). This search is an optimization problem looking for the hypothesis that optimizes an error measure.\n",
    "\n",
    "There is no sophisticted, closed-form solution like least-squares linear, so we will use gradient descent instead. Specifically we will use batch gradient descent which calculates the gradient from all data points in the data set.\n",
    "\n",
    "Luckily, our \"cross-entropy\" error measure is convex so there is only one minimum. Thus the minimum we arrive at is the global minimum."
   ]
  },
  {
   "cell_type": "markdown",
   "metadata": {},
   "source": [
    "To learn we're going to minimize the following error measure using batch gradient descent.\n",
    "\n",
    "$$\n",
    "e(h({\\bf x}_n), y_n) = \\ln \\left( 1+e^{-y_n \\; {\\bf w}^T {\\bf x}_n} \\right) \\\\\n",
    "E_\\text{in}({\\bf w}) = \\frac{1}{N} \\sum_{n=1}^{N} e(h({\\bf x}_n), y_n) = \\frac{1}{N} \\sum_{n=1}^{N} \\ln \\left( 1+e^{-y_n \\; {\\bf w}^T {\\bf x}_n} \\right)\n",
    "$$\n",
    "\n",
    "We'll need the derivative of the point loss function and possibly some abuse of notation.\n",
    "\n",
    "$$\n",
    "\\frac{d}{d{\\bf w}} e(h({\\bf x}_n), y_n)\n",
    "= \\frac{-y_n \\; {\\bf x}_n \\; e^{-y_n {\\bf w}^T {\\bf x}_n}}{1 + e^{-y_n {\\bf w}^T {\\bf x}_n}}\n",
    "= -\\frac{y_n \\; {\\bf x}_n}{1 + e^{y_n {\\bf w}^T {\\bf x}_n}}\n",
    "$$"
   ]
  },
  {
   "cell_type": "markdown",
   "metadata": {},
   "source": [
    "With the point loss derivative we can determine the gradient of the in-sample error:\n",
    "\n",
    "$$\n",
    "\\begin{align}\n",
    "\\nabla E_\\text{in}({\\bf w})\n",
    "&= \\frac{d}{d{\\bf w}} \\left[ \\frac{1}{N} \\sum_{n=1}^N e(h({\\bf x}_n), y_n) \\right] \\\\\n",
    "&= \\frac{1}{N} \\sum_{n=1}^N \\frac{d}{d{\\bf w}} e(h({\\bf x}_n), y_n) \\\\\n",
    "&= \\frac{1}{N} \\sum_{n=1}^N \\left( - \\frac{y_n \\; {\\bf x}_n}{1 + e^{y_n {\\bf w}^T {\\bf x}_n}} \\right) \\\\\n",
    "&= - \\frac{1}{N} \\sum_{n=1}^N \\frac{y_n \\; {\\bf x}_n}{1 + e^{y_n {\\bf w}^T {\\bf x}_n}} \\\\\n",
    "\\end{align}\n",
    "$$\n",
    "\n",
    "Our weight update rule per batch gradient descent becomes\n",
    "\n",
    "$$\n",
    "\\begin{align}\n",
    "{\\bf w}_{i+1} &= {\\bf w}_i - \\eta \\; \\nabla E_\\text{in}({\\bf w}_i) \\\\\n",
    "&= {\\bf w}_i - \\eta \\; \\left( - \\frac{1}{N} \\sum_{n=1}^N \\frac{y_n \\; {\\bf x}_n}{1 + e^{y_n {\\bf w}_i^T {\\bf x}_n}} \\right) \\\\\n",
    "&= {\\bf w}_i + \\eta \\; \\left( \\frac{1}{N} \\sum_{n=1}^N \\frac{y_n \\; {\\bf x}_n}{1 + e^{y_n {\\bf w}_i^T {\\bf x}_n}} \\right) \\\\\n",
    "\\end{align}\n",
    "$$\n",
    "\n",
    "where $\\eta$ is the learning rate."
   ]
  },
  {
   "cell_type": "code",
   "execution_count": null,
   "metadata": {},
   "outputs": [],
   "source": []
  },
  {
   "cell_type": "markdown",
   "metadata": {},
   "source": [
    "## Evaluation of a Classification Model"
   ]
  },
  {
   "cell_type": "markdown",
   "metadata": {},
   "source": [
    "In machine learning, once we have a result of the classification problem, how do we measure how accurate our classification is?\n",
    "For a  regression problem, we have different metrics like R Squared score, Mean Squared Error etc. what are the metrics to measure the credibility of a classification model?\n",
    "\n",
    "Metrics\n",
    "In a regression problem, the accuracy is generally measured in terms of the difference in the actual values and the predicted values.\n",
    "In a classification problem, the credibility of the model is measured using the confusion matrix generated, i.e., how accurately the true positives and true negatives were predicted.\n",
    "The different metrics used for this purpose are:\n",
    "- Accuracy\n",
    "- Recall\n",
    "- Precision\n",
    "- F1 Score\n",
    "- Specifity\n",
    "- AUC( Area Under the Curve)\n",
    "- RUC(Receiver Operator Characteristic)"
   ]
  },
  {
   "cell_type": "markdown",
   "metadata": {},
   "source": [
    "### Confusion Matrix\n",
    "\n",
    "A typical confusion matrix looks like the figure shown.\n",
    "\n",
    "<img src=\"confusionMatrix.PNG\" width=\"300\">\n",
    "\n",
    "Where the terms have the meaning:\n",
    "\n",
    "\t__True Positive(TP):__ A result that was predicted as positive by the classification model and also is positive\n",
    "\n",
    "\t__True Negative(TN):__ A result that was predicted as negative by the classification model and also is negative\n",
    "\n",
    "\t__False Positive(FP):__ A result that was predicted as positive by the classification model but actually is negative\n",
    "\n",
    "\t__False Negative(FN):__ A result that was predicted as negative by the classification model but actually is positive.\n",
    "\n",
    "The Credibility of the model is based on how many correct predictions did the model do."
   ]
  },
  {
   "cell_type": "markdown",
   "metadata": {},
   "source": [
    "### Accuracy\n",
    "The mathematical formula is :\n",
    "\n",
    "   __Accuracy__= $ \\frac{ (TP+TN)}{(TP+TN+FP+FN)} $\n",
    "    \n",
    "Or, it can be said that it’s defined as the total number of correct classifications divided by the total number of classifications. \n"
   ]
  },
  {
   "cell_type": "markdown",
   "metadata": {},
   "source": [
    "#### Recall or Sensitivity\n",
    "The mathematical formula is:\n",
    "\n",
    "   __Recall__= $ \\frac{ TP}{(TP+FN)} $\n",
    "\n",
    "Or, as the name suggests, it is a measure of: from the total number of positive results how many positives were correctly predicted by the model.\n",
    "\n",
    "It shows how relevant the model is, in terms of positive results only.\n",
    "\n",
    "Let’s suppose in the previous model, the model gave 50 correct predictions(TP) but failed to identify 200 cancer patients(FN). Recall in that case will be:\n",
    "\n",
    "Recall=$ \\frac {50}{(50+200)} $= 0.2 (The model was able to recall only 20% of the cancer patients)\n"
   ]
  },
  {
   "cell_type": "markdown",
   "metadata": {},
   "source": [
    "### Precision\n",
    "\n",
    "Precision is a measure of amongst all the positive predictions, how many of them were actually positive. Mathematically,\n",
    "\n",
    "Precision=$ \\frac {TP}{(TP+FP)} $\n",
    "\n",
    "Let’s suppose in the previous example, the model identified 50 people as cancer patients(TP) but also raised a  false alarm for 100 patients(FP). Hence,\n",
    "\n",
    "Precision=$ \\frac {50}{(50+100)} $=0.33 (The model only has a precision of 33%)\n"
   ]
  },
  {
   "cell_type": "markdown",
   "metadata": {},
   "source": [
    "### But we have a problem!!\n",
    "\n",
    "As evident from the previous example, the model had a very high Accuracy but performed poorly in terms of Precision and Recall. So, necessarily _Accuracy_ is not the metric to use for evaluating the model in this case.\n",
    "\n",
    "Imagine a scenario, where the requirement was that the model recalled all the defaulters who did not pay back the loan. Suppose there were 10 such defaulters and to recall those 10 defaulters, and the model gave you 20 results out of which only the 10 are the actual defaulters. Now, the recall of the model is 100%, but the precision goes down to 50%.\n"
   ]
  },
  {
   "cell_type": "markdown",
   "metadata": {},
   "source": [
    "### A Trade-off?\n",
    "\n",
    "<img src=\"tradeoff.PNG\" width=\"300\">\n",
    "\n",
    "As observed from the graph, with an increase in the Recall, there is a drop in Precision of the model.\n",
    "\n",
    "So the question is - what to go for? Precision or Recall?\n",
    "\n",
    "Well, the answer is: it depends on the business requirement.\n",
    "\n",
    "For example, if you are predicting cancer, you need a 100 % recall. But suppose you are predicting whether a person is innocent or not, you need 100% precision.\n",
    "\n",
    "Can we maximise both at the same time? No\n",
    "\n",
    "So, there is a need for a better metric then?\n",
    "\n",
    "Yes. And it’s called an _F1 Score_\n"
   ]
  },
  {
   "cell_type": "markdown",
   "metadata": {},
   "source": [
    "### F1 Score\n",
    "\n",
    "From the previous examples, it is clear that we need a metric that considers both Precision and Recall for evaluating a model. One such metric is the F1 score.\n",
    "\n",
    "F1 score is defined as the harmonic mean of Precision and Recall. \n",
    "\n",
    "The mathematical formula is:\n",
    "        F1 score= $ \\frac {2*((Precision*Recall)}{(Precision+Recall))} $\n"
   ]
  },
  {
   "cell_type": "markdown",
   "metadata": {},
   "source": [
    "### Specificity or True Negative Rate\n",
    "\n",
    "This represents how specific is the model while predicting the True Negatives.\n",
    "Mathematically,\n",
    "\n",
    "   Specificity=$ \\frac {TN}{(TN+FP)} $\n",
    "Or, it can be said that it quantifies the total number of negatives predicted by the model with respect to the total number of actual negative or non favorable outcomes.\n",
    "\n",
    "Similarly, False Positive rate can be defined as:  (1- specificity)\n",
    "Or,  $ \\frac {FP}{(TN+FP)} $\n"
   ]
  },
  {
   "cell_type": "markdown",
   "metadata": {},
   "source": [
    "### ROC(Receiver Operator Characteristic)\n",
    "\n",
    "We know that the classification algorithms work on the concept of probability of occurrence of the possible outcomes. A probability value lies between 0 and 1. Zero means that there is no probability of occurrence and one means that the occurrence is certain.\n",
    "\n",
    "But while working with real-time data, it has been observed that we seldom get a perfect 0 or 1 value. Instead of that, we get different decimal values lying between 0 and 1. Now the question is if we are not getting binary probability values how are we actually determining the class in our classification problem?\n",
    "\n",
    "There comes the concept of Threshold. A threshold is set, any probability value below the threshold is a negative outcome, and anything more than the threshold is a favourable or the positive outcome. For Example, if the threshold is 0.5, any probability value below 0.5 means a negative or an unfavourable outcome and any value above 0.5 indicates a positive or favourable outcome. \n",
    "\n",
    "Now, the question is, what should be an ideal threshold?\n"
   ]
  },
  {
   "cell_type": "markdown",
   "metadata": {},
   "source": [
    "The following diagram shows a typical logistic regression curve.\n",
    "<img src=\"logisticRegression.PNG\" width=\"300\">\n",
    "\n",
    "* The horizontal lines represent the various values of thresholds ranging from 0 to 1.\n",
    "* Let’s suppose our classification problem was to identify the obese people from the given data.\n",
    "* The green markers represent obese people and the red markers represent the non-obese people.\n",
    "* Our confusion matrix will depend on the value of the threshold chosen by us.\n",
    "* For Example, if 0.25 is the threshold then\n",
    "        TP(actually obese)=3\n",
    "        TN(Not obese)=2\n",
    "        FP(Not obese but predicted obese)=2(the two red squares above the 0.25 line)\n",
    "        FN(Obese but predicted as not obese )=1(Green circle below 0.25line  )\n"
   ]
  },
  {
   "cell_type": "markdown",
   "metadata": {},
   "source": [
    "A typical ROC curve looks like the following figure.\n",
    "<img src=\"ROC.PNG\" width=\"300\">\n",
    "\n",
    "* Mathematically, it represents the various confusion matrices for various thresholds. Each black dot is one confusion matrix.\n",
    "* The green dotted line represents the scenario when the true positive rate equals the false positive rate.\n",
    "* As evident from the curve, as we move from the rightmost dot towards left, after a certain threshold, the false positive rate decreases.\n",
    "* After some time, the false positive rate becomes zero.\n",
    "* The point encircled in green is the best point as it predicts all the values correctly and keeps the False positive as a minimum.\n",
    "* But that is not a rule of thumb. Based on the requirement, we need to select the point of a threshold.\n",
    "* The ROC curve answers our question of which threshold to choose.\n"
   ]
  },
  {
   "cell_type": "markdown",
   "metadata": {},
   "source": [
    "### But we have a confusion!!\n",
    "\n",
    "Let’s suppose that we used different classification algorithms, and different ROCs for the corresponding algorithms have been plotted.\n",
    "The question is: which algorithm to choose now?\n",
    "The answer is to calculate the area under each ROC curve."
   ]
  },
  {
   "cell_type": "markdown",
   "metadata": {},
   "source": [
    "#### AUC(Area Under Curve)\n",
    "\n",
    "<img src=\"AUC.PNG\" width=\"300\">\n",
    "\n",
    "* It helps us to choose the best model amongst the models for which we have plotted the ROC curves\n",
    "* The best model is the one which encompasses the maximum area under it.\n",
    "* In the adjacent diagram, amongst the two curves, the model that resulted in the red one should be chosen as it clearly covers more area than the blue one\n"
   ]
  },
  {
   "cell_type": "code",
   "execution_count": null,
   "metadata": {},
   "outputs": [],
   "source": []
  }
 ],
 "metadata": {
  "kernelspec": {
   "display_name": "Python 3",
   "language": "python",
   "name": "python3"
  },
  "language_info": {
   "codemirror_mode": {
    "name": "ipython",
    "version": 3
   },
   "file_extension": ".py",
   "mimetype": "text/x-python",
   "name": "python",
   "nbconvert_exporter": "python",
   "pygments_lexer": "ipython3",
   "version": "3.8.5"
  }
 },
 "nbformat": 4,
 "nbformat_minor": 4
}
