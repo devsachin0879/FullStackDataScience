{
 "cells": [
  {
   "cell_type": "markdown",
   "metadata": {},
   "source": [
    "1. In the below elements which of them are values or an expression? eg:- values can be integer or string and expressions will be mathematical operators.<br>\n",
    "\n",
    "\n",
    "-- * <br>\n",
    "-- 'hello'<br>\n",
    "-- -87.8<br>\n",
    "-- - <br>\n",
    "-- / <br>\n",
    "-- + <br>\n",
    "-- 6 <br>\n"
   ]
  },
  {
   "cell_type": "markdown",
   "metadata": {},
   "source": [
    "#### Answer1\n",
    "\n",
    "Values are -87.8,6,'hello'\n",
    "\n",
    "Expressions are *,-,/,+"
   ]
  },
  {
   "cell_type": "markdown",
   "metadata": {},
   "source": [
    "#### 2. What is the difference between string and variable?"
   ]
  },
  {
   "cell_type": "markdown",
   "metadata": {},
   "source": [
    "##### Answer 2\n",
    "\n",
    "String is a datatype and is usually a sentence,word or characters inside \" \" eg:- \"Sachin\",\"a\",\"abc\",\"+\",\"2+3\"\n",
    "    \n",
    "Variable is used to store values. A variable can store any kind of datatype eg: a = 10, b = 'Sachin'"
   ]
  },
  {
   "cell_type": "markdown",
   "metadata": {},
   "source": [
    "#### 3. Describe three different data types\n",
    "\n",
    "1:- integers eg:- 1,2,3,4,5 etc <br>\n",
    "2:- float eg: 20.1,55.2,63.3 etc<br>\n",
    "3:- list eg: [1,2,3,'abc']<br>"
   ]
  },
  {
   "cell_type": "markdown",
   "metadata": {},
   "source": [
    "#### 4. What is an expression made up of? What do all expressions do?\n",
    "\n",
    "\n",
    "##### Answer\n",
    "\n",
    "Expression is the combination of operations, values and variables. All expressions are used to get back result <br>\n",
    "eg:- a = 4, b = 5 <br>\n",
    "    c = a+b --> this is an expression and it gives back output as 9 <br>"
   ]
  },
  {
   "cell_type": "markdown",
   "metadata": {},
   "source": [
    "#### 5. This assignment statements, like spam = 10. What is the difference between an expression and a statement?\n",
    "\n",
    "##### Answer\n",
    "Statements can be considered as commands like print(\"My Name is Sachin\") but expression is the combination of variables, values operations etc used to get back the output."
   ]
  },
  {
   "cell_type": "markdown",
   "metadata": {},
   "source": [
    "#### 6. After running the following code, what does the variable bacon contain?<br>\n",
    "#### bacon = 22<br>\n",
    "#### bacon + 1<br>\n"
   ]
  },
  {
   "cell_type": "code",
   "execution_count": 2,
   "metadata": {},
   "outputs": [
    {
     "data": {
      "text/plain": [
       "23"
      ]
     },
     "execution_count": 2,
     "metadata": {},
     "output_type": "execute_result"
    }
   ],
   "source": [
    "bacon = 22\n",
    "bacon + 1"
   ]
  },
  {
   "cell_type": "markdown",
   "metadata": {},
   "source": [
    "##### 7. What should the values of the following two terms be?<br>\n",
    "##### 'spam' + 'spamspam'<br>\n",
    "##### 'spam' * 3<br>\n"
   ]
  },
  {
   "cell_type": "code",
   "execution_count": 3,
   "metadata": {},
   "outputs": [
    {
     "data": {
      "text/plain": [
       "'spamspamspam'"
      ]
     },
     "execution_count": 3,
     "metadata": {},
     "output_type": "execute_result"
    }
   ],
   "source": [
    "\"spam\" + \"spamspam\""
   ]
  },
  {
   "cell_type": "code",
   "execution_count": 4,
   "metadata": {},
   "outputs": [
    {
     "data": {
      "text/plain": [
       "'spamspamspam'"
      ]
     },
     "execution_count": 4,
     "metadata": {},
     "output_type": "execute_result"
    }
   ],
   "source": [
    "\"spam\"*3"
   ]
  },
  {
   "cell_type": "markdown",
   "metadata": {},
   "source": [
    "#### 8. Why is eggs a valid variable name while 100 is invalid?\n",
    "\n",
    "##### Answer\n",
    "A varible cannot start with mathematical operators, numbers, special characters and inbuilt python functions.\n",
    "Let's say 100 is a valid variable number but what if I want to assign my variable a vlaue of 101 then 100 = 101 which is not true."
   ]
  },
  {
   "cell_type": "markdown",
   "metadata": {},
   "source": [
    "#### 9. What three functions can be used to get the integer, floating-point number, or string version of a value?\n",
    "\n",
    "Let say i want to convert a varible x to following datatypes\n",
    "\n",
    "1: Interger = int(x)<br>\n",
    "2: Floating point number = float(x)<br>\n",
    "3: String = str(x)<br>"
   ]
  },
  {
   "cell_type": "markdown",
   "metadata": {},
   "source": [
    "#### 10. Why does this expression cause an error? How can you fix it?<br>\n",
    "#### 'I have eaten ' + 99 + ' burritos.'\n",
    "\n",
    "\n",
    "\n",
    "Here we are trying to concat string datatype with integer datatype. In order to fix it we need to convert interger datatyoe to str\n",
    "\n",
    "'I have eaten ' + str(99) + ' burritos.'"
   ]
  },
  {
   "cell_type": "code",
   "execution_count": 5,
   "metadata": {},
   "outputs": [
    {
     "data": {
      "text/plain": [
       "'I have eaten 99 burritos.'"
      ]
     },
     "execution_count": 5,
     "metadata": {},
     "output_type": "execute_result"
    }
   ],
   "source": [
    "'I have eaten ' + str(99) + ' burritos.'"
   ]
  },
  {
   "cell_type": "code",
   "execution_count": null,
   "metadata": {},
   "outputs": [],
   "source": []
  }
 ],
 "metadata": {
  "kernelspec": {
   "display_name": "Python 3",
   "language": "python",
   "name": "python3"
  },
  "language_info": {
   "codemirror_mode": {
    "name": "ipython",
    "version": 3
   },
   "file_extension": ".py",
   "mimetype": "text/x-python",
   "name": "python",
   "nbconvert_exporter": "python",
   "pygments_lexer": "ipython3",
   "version": "3.8.5"
  }
 },
 "nbformat": 4,
 "nbformat_minor": 4
}
