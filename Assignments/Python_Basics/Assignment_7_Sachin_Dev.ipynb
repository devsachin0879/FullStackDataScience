{
 "cells": [
  {
   "cell_type": "markdown",
   "metadata": {},
   "source": [
    "#### 1. What is the name of the feature responsible for generating Regex objects?"
   ]
  },
  {
   "cell_type": "markdown",
   "metadata": {},
   "source": [
    "re.compile()"
   ]
  },
  {
   "cell_type": "markdown",
   "metadata": {},
   "source": [
    "#### 2. Why do raw strings often appear in Regex objects?"
   ]
  },
  {
   "cell_type": "markdown",
   "metadata": {},
   "source": [
    "Raw strings often appear in Regex objects so that backslashes do not have to be escaped."
   ]
  },
  {
   "cell_type": "markdown",
   "metadata": {},
   "source": [
    "#### 3. What is the return value of the search() method?"
   ]
  },
  {
   "cell_type": "markdown",
   "metadata": {},
   "source": [
    "search() scans the string and looks for any matches if there is a match.\n",
    "\n",
    "search() return match type"
   ]
  },
  {
   "cell_type": "code",
   "execution_count": 3,
   "metadata": {},
   "outputs": [
    {
     "name": "stdout",
     "output_type": "stream",
     "text": [
      "<re.Match object; span=(3, 6), match='abc'>\n"
     ]
    }
   ],
   "source": [
    "import re\n",
    "\n",
    "test_string = '123abc456789abc123ABC'\n",
    "pattern = re.compile(r\"abc\")\n",
    "matches = pattern.search(test_string)\n",
    "print(matches)"
   ]
  },
  {
   "cell_type": "markdown",
   "metadata": {},
   "source": [
    "#### 4. From a Match item, how do you get the actual strings that match the pattern?"
   ]
  },
  {
   "cell_type": "code",
   "execution_count": 4,
   "metadata": {},
   "outputs": [
    {
     "name": "stdout",
     "output_type": "stream",
     "text": [
      "<re.Match object; span=(3, 6), match='abc'>\n"
     ]
    }
   ],
   "source": [
    "import re\n",
    "\n",
    "test_string = '123abc456789abc123ABC'\n",
    "pattern = re.compile(r\"abc\")\n",
    "matches = pattern.search(test_string)\n",
    "print(matches)"
   ]
  },
  {
   "cell_type": "markdown",
   "metadata": {},
   "source": [
    "#### 5. In the regex which created from the r'(\\d\\d\\d)-(\\d\\d\\d-\\d\\d\\d\\d)', what does group zero cover? Group 2? Group 1?"
   ]
  },
  {
   "cell_type": "markdown",
   "metadata": {},
   "source": [
    "Group zero will find whole pattern \\d\\d\\d-\\d\\d\\d-\\d\\d\\d\\d<br>\n",
    "Group1:- \\d\\d\\d<br>\n",
    "Group2;- \\d\\d\\d-\\d\\d\\d\\d<br>"
   ]
  },
  {
   "cell_type": "code",
   "execution_count": 5,
   "metadata": {},
   "outputs": [
    {
     "name": "stdout",
     "output_type": "stream",
     "text": [
      "Group 0:  123-456-7890\n",
      "Group 1:  123\n",
      "Group 2:  456-7890\n"
     ]
    }
   ],
   "source": [
    "test_string = \"123-456-7890\"\n",
    "pattern = re.compile(r\"(\\d\\d\\d)-(\\d\\d\\d-\\d\\d\\d\\d)\")\n",
    "matches = pattern.finditer(test_string)\n",
    "for i in matches:\n",
    "    print(\"Group 0: \",i.group())\n",
    "    print(\"Group 1: \",i.group(1))\n",
    "    print(\"Group 2: \",i.group(2))"
   ]
  },
  {
   "cell_type": "markdown",
   "metadata": {},
   "source": [
    "#### 6. In standard expression syntax, parentheses and intervals have distinct meanings. How can you tell a regex that you want it to fit real parentheses and periods?"
   ]
  },
  {
   "cell_type": "markdown",
   "metadata": {},
   "source": [
    "we can use backslash to escape parantheis and periods"
   ]
  },
  {
   "cell_type": "markdown",
   "metadata": {},
   "source": [
    "#### 7. The findall() method returns a string list or a list of string tuples. What causes it to return one of the two options?"
   ]
  },
  {
   "cell_type": "markdown",
   "metadata": {},
   "source": [
    "It returns a list of string. findall() returns list of string tuples if we gorup the matches"
   ]
  },
  {
   "cell_type": "code",
   "execution_count": 7,
   "metadata": {},
   "outputs": [
    {
     "data": {
      "text/plain": [
       "['abc', 'abc']"
      ]
     },
     "execution_count": 7,
     "metadata": {},
     "output_type": "execute_result"
    }
   ],
   "source": [
    "test_string = '123abc456789abc123ABC'\n",
    "pattern = re.compile(r\"abc\")\n",
    "matches = pattern.findall(test_string)\n",
    "matches"
   ]
  },
  {
   "cell_type": "markdown",
   "metadata": {},
   "source": [
    "#### 8. In standard expressions, what does the | character mean?"
   ]
  },
  {
   "cell_type": "markdown",
   "metadata": {},
   "source": [
    "OR "
   ]
  },
  {
   "cell_type": "code",
   "execution_count": 8,
   "metadata": {},
   "outputs": [
    {
     "data": {
      "text/plain": [
       "['abc', 'abc', 'ABC']"
      ]
     },
     "execution_count": 8,
     "metadata": {},
     "output_type": "execute_result"
    }
   ],
   "source": [
    "test_string = '123abc456789abc123ABC'\n",
    "pattern = re.compile(r\"(abc|ABC)\")\n",
    "matches = pattern.findall(test_string)\n",
    "matches"
   ]
  },
  {
   "cell_type": "markdown",
   "metadata": {},
   "source": [
    "#### 9. In regular expressions, what does the character stand for?"
   ]
  },
  {
   "cell_type": "code",
   "execution_count": null,
   "metadata": {},
   "outputs": [],
   "source": []
  },
  {
   "cell_type": "markdown",
   "metadata": {},
   "source": [
    "#### 10.In regular expressions, what is the difference between the + and * characters?"
   ]
  },
  {
   "cell_type": "markdown",
   "metadata": {},
   "source": [
    "  +and* are both metacharacter\n",
    "\n",
    "+:- One or more occurences<br>\n",
    "*:- Zero or more ocuurences"
   ]
  },
  {
   "cell_type": "markdown",
   "metadata": {},
   "source": [
    "#### 11. What is the difference between {4} and {4,5} in regular expression?"
   ]
  },
  {
   "cell_type": "markdown",
   "metadata": {},
   "source": [
    "{4}:- Exactly 4 characters<br>\n",
    "{4,5}:- 4 or 5 characters"
   ]
  },
  {
   "cell_type": "code",
   "execution_count": 9,
   "metadata": {},
   "outputs": [
    {
     "data": {
      "text/plain": [
       "['4567']"
      ]
     },
     "execution_count": 9,
     "metadata": {},
     "output_type": "execute_result"
    }
   ],
   "source": [
    "test_string = '123abc456789abc123ABC'\n",
    "pattern = re.compile(r\"\\d{4}\")\n",
    "matches = pattern.findall(test_string)\n",
    "matches"
   ]
  },
  {
   "cell_type": "code",
   "execution_count": 11,
   "metadata": {},
   "outputs": [
    {
     "data": {
      "text/plain": [
       "['1234', '45678']"
      ]
     },
     "execution_count": 11,
     "metadata": {},
     "output_type": "execute_result"
    }
   ],
   "source": [
    "test_string = '1234abc456789abc123ABC'\n",
    "pattern = re.compile(r\"\\d{4,5}\")\n",
    "matches = pattern.findall(test_string)\n",
    "matches"
   ]
  },
  {
   "cell_type": "markdown",
   "metadata": {},
   "source": [
    "#### 12. What do you mean by the \\d, \\w, and \\s shorthand character classes signify in regular expressions?"
   ]
  },
  {
   "cell_type": "markdown",
   "metadata": {},
   "source": [
    "\\d:- matches any decimal digit<br>\n",
    "\\w:- matches any alphanumeric character<br>\n",
    "\\s:- matches any whitespace character"
   ]
  },
  {
   "cell_type": "markdown",
   "metadata": {},
   "source": [
    "#### 13. What do means by \\D, \\W, and \\S shorthand character classes signify in regular expressions?"
   ]
  },
  {
   "cell_type": "markdown",
   "metadata": {},
   "source": [
    "\\D:- matches any non-digit character<br>\n",
    "\\W:- matches any non-alphanumeric character<br>\n",
    "\\S:- matches any non-whitespace character"
   ]
  },
  {
   "cell_type": "markdown",
   "metadata": {},
   "source": [
    "#### 14. What is the difference between .*? and .*?"
   ]
  },
  {
   "cell_type": "markdown",
   "metadata": {},
   "source": [
    "No Difference"
   ]
  },
  {
   "cell_type": "markdown",
   "metadata": {},
   "source": [
    "#### 15. What is the syntax for matching both numbers and lowercase letters with a character class?"
   ]
  },
  {
   "cell_type": "markdown",
   "metadata": {},
   "source": [
    "[0-9a-z]"
   ]
  },
  {
   "cell_type": "markdown",
   "metadata": {},
   "source": [
    "#### 16. What is the procedure for making a normal expression in regax case insensitive?"
   ]
  },
  {
   "cell_type": "markdown",
   "metadata": {},
   "source": [
    "by using re.IGNORECASE"
   ]
  },
  {
   "cell_type": "markdown",
   "metadata": {},
   "source": [
    "#### 17. What does the . character normally match? What does it match if re.DOTALL is passed as 2nd argument in re.compile()?"
   ]
  },
  {
   "cell_type": "markdown",
   "metadata": {},
   "source": [
    ". :- matches any character except new line character\n",
    "\n",
    "if re.DOTALL is passed it can match new line character along with other characters"
   ]
  },
  {
   "cell_type": "markdown",
   "metadata": {},
   "source": [
    "#### 18. If numReg = re.compile(r'\\d+'), what will numRegex.sub('X', '11 drummers, 10 pipers, five rings, 4 hen') return?"
   ]
  },
  {
   "cell_type": "code",
   "execution_count": 13,
   "metadata": {},
   "outputs": [
    {
     "data": {
      "text/plain": [
       "'X drummers, X pipers, five rings, X hen'"
      ]
     },
     "execution_count": 13,
     "metadata": {},
     "output_type": "execute_result"
    }
   ],
   "source": [
    "numRegex = re.compile(r\"\\d+\")\n",
    "numRegex.sub('X', '11 drummers, 10 pipers, five rings, 4 hen')"
   ]
  },
  {
   "cell_type": "markdown",
   "metadata": {},
   "source": [
    "#### 19. What does passing re.VERBOSE as the 2nd argument to re.compile() allow to do?"
   ]
  },
  {
   "cell_type": "markdown",
   "metadata": {},
   "source": [
    "re.VERBOSE will allow to add whitespace and comments to string passed to re.compile()"
   ]
  },
  {
   "cell_type": "markdown",
   "metadata": {},
   "source": [
    "#### 20. How would you write a regex that match a number with comma for every three digits? It must match the given following:<br>\n",
    "'42'<br>\n",
    "'1,234'<br>\n",
    "'6,368,745'<br>\n",
    "but not the following:<br>\n",
    "'12,34,567' (which has only two digits between the commas)<br>\n",
    "'1234' (which lacks commas)<br>\n"
   ]
  },
  {
   "cell_type": "code",
   "execution_count": 14,
   "metadata": {},
   "outputs": [
    {
     "name": "stdout",
     "output_type": "stream",
     "text": [
      "42 ==> <re.Match object; span=(0, 2), match='42'>\n",
      "1,234 ==> <re.Match object; span=(0, 5), match='1,234'>\n",
      "6,368,745 ==> <re.Match object; span=(0, 9), match='6,368,745'>\n",
      "12,34,567 ==> None\n",
      "1234 ==> None\n"
     ]
    }
   ],
   "source": [
    "import re\n",
    "pattern = re.compile(r\"^\\d{1,3}(,\\d{3})*$\")\n",
    "for i in ['42','1,234','6,368,745','12,34,567','1234']:\n",
    "    print(f\"{i} ==> {pattern.search(i)}\")"
   ]
  },
  {
   "cell_type": "markdown",
   "metadata": {},
   "source": [
    "#### 21. How would you write a regex that matches the full name of someone whose last name is Watanabe? You can assume that the first name that comes before it will always be one word that begins with a capital letter. The regex must match the following:<br><br>\n",
    "'Haruto Watanabe'<br>\n",
    "'Alice Watanabe'<br>\n",
    "'RoboCop Watanabe'<br><br>\n",
    "but not the following:<br>\n",
    "'haruto Watanabe' (where the first name is not capitalized)<br>\n",
    "'Mr. Watanabe' (where the preceding word has a nonletter character)<br>\n",
    "'Watanabe' (which has no first name)<br>\n",
    "'Haruto watanabe' (where Watanabe is not capitalized)<br>\n"
   ]
  },
  {
   "cell_type": "code",
   "execution_count": 19,
   "metadata": {},
   "outputs": [
    {
     "name": "stdout",
     "output_type": "stream",
     "text": [
      "<re.Match object; span=(1, 16), match='Haruto Watanabe'>\n",
      "<re.Match object; span=(17, 31), match='Alice Watanabe'>\n",
      "<re.Match object; span=(36, 48), match='Cop Watanabe'>\n",
      "<re.Match object; span=(69, 86), match='Watanabe\\nWatanabe'>\n"
     ]
    }
   ],
   "source": [
    "# mystring = '''\n",
    "# Haruto Watanabe\n",
    "# Alice Watanabe\n",
    "# RoboCop Watanabe\n",
    "# haruto Watanabe\n",
    "# Mr. Watanabe\n",
    "# Watanabe\n",
    "# Haruto watanabe\n",
    "# '''\n",
    "# pattern = re.compile(r\"[A-Z]{1}[a-z]+\\sWatanabe\")\n",
    "# matches = pattern.finditer(mystring)\n",
    "# for i in matches:\n",
    "#     print(i)"
   ]
  },
  {
   "cell_type": "code",
   "execution_count": 20,
   "metadata": {},
   "outputs": [
    {
     "name": "stdout",
     "output_type": "stream",
     "text": [
      "Haruto Watanabe ==> <re.Match object; span=(0, 15), match='Haruto Watanabe'>\n",
      "Alice Watanabe ==> <re.Match object; span=(0, 14), match='Alice Watanabe'>\n",
      "RoboCop Watanabe ==> <re.Match object; span=(4, 16), match='Cop Watanabe'>\n",
      "haruto Watanabe ==> None\n",
      "Mr. Watanabe ==> None\n",
      "Watanabe ==> None\n",
      "Haruto watanabe ==> None\n"
     ]
    }
   ],
   "source": [
    "l = ['Haruto Watanabe','Alice Watanabe','RoboCop Watanabe','haruto Watanabe','Mr. Watanabe','Watanabe','Haruto watanabe']\n",
    "pattern = re.compile(r\"[A-Z]{1}[a-z]+\\sWatanabe\")\n",
    "for  i in l:\n",
    "    print(f\"{i} ==> {pattern.search(i)}\")"
   ]
  },
  {
   "cell_type": "markdown",
   "metadata": {},
   "source": [
    "#### 22. How would you write a regex that matches a sentence where the first word is either Alice, Bob, or Carol; the second word is either eats, pets, or throws; the third word is apples, cats, or baseballs; and the sentence ends with a period? This regex should be case-insensitive. It must match the following:<br>\n",
    "'Alice eats apples.'<br>\n",
    "'Bob pets cats.'<br>\n",
    "'Carol throws baseballs.'<br>\n",
    "'Alice throws Apples.'<br>\n",
    "'BOB EATS CATS.'<br><br>\n",
    "but not the following:<br>\n",
    "'RoboCop eats apples.'<br>\n",
    "'ALICE THROWS FOOTBALLS.'<br>\n",
    "'Carol eats 7 cats.'<br>\n"
   ]
  },
  {
   "cell_type": "code",
   "execution_count": 21,
   "metadata": {},
   "outputs": [
    {
     "name": "stdout",
     "output_type": "stream",
     "text": [
      "Alice eats apples. ==> <re.Match object; span=(0, 18), match='Alice eats apples.'>\n",
      "Bob pets cats. ==> <re.Match object; span=(0, 14), match='Bob pets cats.'>\n",
      "Carol throws baseballs. ==> <re.Match object; span=(0, 23), match='Carol throws baseballs.'>\n",
      "Alice throws Apples. ==> None\n",
      "BOB EATS CATS. ==> None\n",
      "RoboCop eats apples. ==> None\n",
      "ALICE THROWS FOOTBALLS. ==> None\n",
      "Carol eats 7 cats. ==> None\n"
     ]
    }
   ],
   "source": [
    "l = ['Alice eats apples.','Bob pets cats.','Carol throws baseballs.','Alice throws Apples.'\\\n",
    "     ,'BOB EATS CATS.','RoboCop eats apples.','ALICE THROWS FOOTBALLS.','Carol eats 7 cats.']\n",
    "\n",
    "pattern = re.compile(r\"(Alice|Bob|Carol)\\s(eats|pets|throws)\\s(apples|cats|baseballs)\\.\")\n",
    "for i in l:\n",
    "    print(f\"{i} ==> {pattern.search(i)}\")"
   ]
  },
  {
   "cell_type": "code",
   "execution_count": null,
   "metadata": {},
   "outputs": [],
   "source": []
  }
 ],
 "metadata": {
  "kernelspec": {
   "display_name": "Python 3",
   "language": "python",
   "name": "python3"
  },
  "language_info": {
   "codemirror_mode": {
    "name": "ipython",
    "version": 3
   },
   "file_extension": ".py",
   "mimetype": "text/x-python",
   "name": "python",
   "nbconvert_exporter": "python",
   "pygments_lexer": "ipython3",
   "version": "3.8.5"
  }
 },
 "nbformat": 4,
 "nbformat_minor": 4
}
