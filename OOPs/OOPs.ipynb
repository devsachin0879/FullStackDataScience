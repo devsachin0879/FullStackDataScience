{
 "cells": [
  {
   "cell_type": "code",
   "execution_count": 1,
   "metadata": {},
   "outputs": [],
   "source": [
    "### Class is an interpretation of real world entity.\n",
    "### Object is the variable of the class with the help of whcih we can try to do real world interpretation of the data or entity."
   ]
  },
  {
   "cell_type": "code",
   "execution_count": 5,
   "metadata": {},
   "outputs": [],
   "source": [
    "class car:\n",
    "    pass"
   ]
  },
  {
   "cell_type": "code",
   "execution_count": 6,
   "metadata": {},
   "outputs": [],
   "source": [
    "audiq7 = car()"
   ]
  },
  {
   "cell_type": "code",
   "execution_count": 7,
   "metadata": {},
   "outputs": [
    {
     "data": {
      "text/plain": [
       "<__main__.car at 0x24f53cae160>"
      ]
     },
     "execution_count": 7,
     "metadata": {},
     "output_type": "execute_result"
    }
   ],
   "source": [
    "audiq7"
   ]
  },
  {
   "cell_type": "code",
   "execution_count": 9,
   "metadata": {},
   "outputs": [],
   "source": [
    "audiq7.milage = 10\n",
    "audiq7.year = 2020\n",
    "audiq7.make = 345\n",
    "audiq7.model = 'hjfgkyhjgb'"
   ]
  },
  {
   "cell_type": "code",
   "execution_count": 10,
   "metadata": {},
   "outputs": [
    {
     "data": {
      "text/plain": [
       "345"
      ]
     },
     "execution_count": 10,
     "metadata": {},
     "output_type": "execute_result"
    }
   ],
   "source": [
    "audiq7.make"
   ]
  },
  {
   "cell_type": "code",
   "execution_count": 11,
   "metadata": {},
   "outputs": [
    {
     "ename": "NameError",
     "evalue": "name 'make' is not defined",
     "output_type": "error",
     "traceback": [
      "\u001b[1;31m---------------------------------------------------------------------------\u001b[0m",
      "\u001b[1;31mNameError\u001b[0m                                 Traceback (most recent call last)",
      "\u001b[1;32m<ipython-input-11-97127c89847b>\u001b[0m in \u001b[0;36m<module>\u001b[1;34m\u001b[0m\n\u001b[1;32m----> 1\u001b[1;33m \u001b[0mmake\u001b[0m\u001b[1;33m\u001b[0m\u001b[1;33m\u001b[0m\u001b[0m\n\u001b[0m",
      "\u001b[1;31mNameError\u001b[0m: name 'make' is not defined"
     ]
    }
   ],
   "source": [
    "make"
   ]
  },
  {
   "cell_type": "code",
   "execution_count": 12,
   "metadata": {},
   "outputs": [
    {
     "data": {
      "text/plain": [
       "345"
      ]
     },
     "execution_count": 12,
     "metadata": {},
     "output_type": "execute_result"
    }
   ],
   "source": [
    "##here make is associated with audiq7 object so need to use complete variuable name\n",
    "\n",
    "audiq7.make"
   ]
  },
  {
   "cell_type": "code",
   "execution_count": 13,
   "metadata": {},
   "outputs": [],
   "source": [
    "nano = car()"
   ]
  },
  {
   "cell_type": "code",
   "execution_count": 17,
   "metadata": {},
   "outputs": [],
   "source": [
    "nano.milage = 20\n",
    "nano.year = 2015\n",
    "nano.make = 123\n",
    "nano.model = 'adsjadfs'\n",
    "nano.engno = 325512585265"
   ]
  },
  {
   "cell_type": "code",
   "execution_count": 18,
   "metadata": {},
   "outputs": [
    {
     "data": {
      "text/plain": [
       "'adsjadfs'"
      ]
     },
     "execution_count": 18,
     "metadata": {},
     "output_type": "execute_result"
    }
   ],
   "source": [
    "nano.model"
   ]
  },
  {
   "cell_type": "code",
   "execution_count": 19,
   "metadata": {},
   "outputs": [
    {
     "data": {
      "text/plain": [
       "2015"
      ]
     },
     "execution_count": 19,
     "metadata": {},
     "output_type": "execute_result"
    }
   ],
   "source": [
    "nano.year"
   ]
  },
  {
   "cell_type": "code",
   "execution_count": 21,
   "metadata": {},
   "outputs": [
    {
     "data": {
      "text/plain": [
       "325512585265"
      ]
     },
     "execution_count": 21,
     "metadata": {},
     "output_type": "execute_result"
    }
   ],
   "source": [
    "nano.engno"
   ]
  },
  {
   "cell_type": "code",
   "execution_count": 23,
   "metadata": {},
   "outputs": [],
   "source": [
    "class car:\n",
    "    \n",
    "    ## init function is used to provide data to the class\n",
    "    ## self is a pointer to the same class\n",
    "    \n",
    "    \n",
    "    def __init__(self,milage,year,make,model):\n",
    "        self.milage = milage\n",
    "        self.year = year\n",
    "        self.make = make\n",
    "        self.model = model"
   ]
  },
  {
   "cell_type": "code",
   "execution_count": 25,
   "metadata": {},
   "outputs": [
    {
     "ename": "TypeError",
     "evalue": "__init__() missing 4 required positional arguments: 'milage', 'year', 'make', and 'model'",
     "output_type": "error",
     "traceback": [
      "\u001b[1;31m---------------------------------------------------------------------------\u001b[0m",
      "\u001b[1;31mTypeError\u001b[0m                                 Traceback (most recent call last)",
      "\u001b[1;32m<ipython-input-25-16870c6ee572>\u001b[0m in \u001b[0;36m<module>\u001b[1;34m\u001b[0m\n\u001b[1;32m----> 1\u001b[1;33m \u001b[0mnano1\u001b[0m \u001b[1;33m=\u001b[0m \u001b[0mcar\u001b[0m\u001b[1;33m(\u001b[0m\u001b[1;33m)\u001b[0m\u001b[1;33m\u001b[0m\u001b[1;33m\u001b[0m\u001b[0m\n\u001b[0m",
      "\u001b[1;31mTypeError\u001b[0m: __init__() missing 4 required positional arguments: 'milage', 'year', 'make', and 'model'"
     ]
    }
   ],
   "source": [
    "nano1 = car()"
   ]
  },
  {
   "cell_type": "code",
   "execution_count": 26,
   "metadata": {},
   "outputs": [],
   "source": [
    "nano1 = car(milage = 20, year = 2020, make = 123, model = 'agaj')"
   ]
  },
  {
   "cell_type": "code",
   "execution_count": 27,
   "metadata": {},
   "outputs": [
    {
     "data": {
      "text/plain": [
       "123"
      ]
     },
     "execution_count": 27,
     "metadata": {},
     "output_type": "execute_result"
    }
   ],
   "source": [
    "nano1.make"
   ]
  },
  {
   "cell_type": "code",
   "execution_count": 28,
   "metadata": {},
   "outputs": [
    {
     "data": {
      "text/plain": [
       "20"
      ]
     },
     "execution_count": 28,
     "metadata": {},
     "output_type": "execute_result"
    }
   ],
   "source": [
    "nano1.milage"
   ]
  },
  {
   "cell_type": "code",
   "execution_count": 29,
   "metadata": {},
   "outputs": [
    {
     "data": {
      "text/plain": [
       "2020"
      ]
     },
     "execution_count": 29,
     "metadata": {},
     "output_type": "execute_result"
    }
   ],
   "source": [
    "nano1.year"
   ]
  },
  {
   "cell_type": "code",
   "execution_count": 30,
   "metadata": {},
   "outputs": [
    {
     "data": {
      "text/plain": [
       "'agaj'"
      ]
     },
     "execution_count": 30,
     "metadata": {},
     "output_type": "execute_result"
    }
   ],
   "source": [
    "nano1.model"
   ]
  },
  {
   "cell_type": "code",
   "execution_count": 31,
   "metadata": {},
   "outputs": [],
   "source": [
    "audiq71 = car(make = 345, year = 2020, model = 'q7', milage = 10)"
   ]
  },
  {
   "cell_type": "code",
   "execution_count": 32,
   "metadata": {},
   "outputs": [
    {
     "data": {
      "text/plain": [
       "'q7'"
      ]
     },
     "execution_count": 32,
     "metadata": {},
     "output_type": "execute_result"
    }
   ],
   "source": [
    "audiq71.model"
   ]
  },
  {
   "cell_type": "code",
   "execution_count": 33,
   "metadata": {},
   "outputs": [],
   "source": [
    "class car:\n",
    "    \n",
    "    ## init function is used to provide data to the class\n",
    "    ## self is a pointer to the same class\n",
    "    \n",
    "    ## self is not a keyword we can use anything inplace of self\n",
    "    def __init__(a,m,y,make,mo):\n",
    "        a.milage = m\n",
    "        a.year = y\n",
    "        a.make = make\n",
    "        a.model = mo"
   ]
  },
  {
   "cell_type": "code",
   "execution_count": 34,
   "metadata": {},
   "outputs": [],
   "source": [
    "nano = car(m = 20, y = 2020, make = 345, mo = 'dshjs')"
   ]
  },
  {
   "cell_type": "code",
   "execution_count": 35,
   "metadata": {},
   "outputs": [
    {
     "ename": "AttributeError",
     "evalue": "'car' object has no attribute 'm'",
     "output_type": "error",
     "traceback": [
      "\u001b[1;31m---------------------------------------------------------------------------\u001b[0m",
      "\u001b[1;31mAttributeError\u001b[0m                            Traceback (most recent call last)",
      "\u001b[1;32m<ipython-input-35-a0fb9a3722a3>\u001b[0m in \u001b[0;36m<module>\u001b[1;34m\u001b[0m\n\u001b[1;32m----> 1\u001b[1;33m \u001b[0mnano\u001b[0m\u001b[1;33m.\u001b[0m\u001b[0mm\u001b[0m\u001b[1;33m\u001b[0m\u001b[1;33m\u001b[0m\u001b[0m\n\u001b[0m",
      "\u001b[1;31mAttributeError\u001b[0m: 'car' object has no attribute 'm'"
     ]
    }
   ],
   "source": [
    "nano.m"
   ]
  },
  {
   "cell_type": "code",
   "execution_count": 37,
   "metadata": {},
   "outputs": [
    {
     "data": {
      "text/plain": [
       "20"
      ]
     },
     "execution_count": 37,
     "metadata": {},
     "output_type": "execute_result"
    }
   ],
   "source": [
    "### self.milage is the method but m is only argument to the function\n",
    "\n",
    "nano.milage"
   ]
  },
  {
   "cell_type": "code",
   "execution_count": 38,
   "metadata": {},
   "outputs": [],
   "source": [
    "class car:\n",
    "    \n",
    "    ## init function is used to provide data to the class\n",
    "    ## self is a pointer to the same class\n",
    "    \n",
    "    ## self is not a keyword we can use anything inplace of self\n",
    "    def __init__(a,m,y,make,mo):\n",
    "        a.milage = m\n",
    "        a.year = y\n",
    "        a.make = make\n",
    "        a.model = mo\n",
    "        \n",
    "        \n",
    "    ## create age function\n",
    "    def age(self,current_year):\n",
    "        return current_year - a.year"
   ]
  },
  {
   "cell_type": "code",
   "execution_count": 39,
   "metadata": {},
   "outputs": [],
   "source": [
    "nano = car(m = 20, y = 2020, make = 345, mo = 'dshjs')"
   ]
  },
  {
   "cell_type": "code",
   "execution_count": 43,
   "metadata": {},
   "outputs": [
    {
     "ename": "NameError",
     "evalue": "name 'a' is not defined",
     "output_type": "error",
     "traceback": [
      "\u001b[1;31m---------------------------------------------------------------------------\u001b[0m",
      "\u001b[1;31mNameError\u001b[0m                                 Traceback (most recent call last)",
      "\u001b[1;32m<ipython-input-43-536261b83553>\u001b[0m in \u001b[0;36m<module>\u001b[1;34m\u001b[0m\n\u001b[0;32m      1\u001b[0m \u001b[1;31m## here we will get an error as we are not using local pointer\u001b[0m\u001b[1;33m\u001b[0m\u001b[1;33m\u001b[0m\u001b[1;33m\u001b[0m\u001b[0m\n\u001b[0;32m      2\u001b[0m \u001b[1;33m\u001b[0m\u001b[0m\n\u001b[1;32m----> 3\u001b[1;33m \u001b[0mnano\u001b[0m\u001b[1;33m.\u001b[0m\u001b[0mage\u001b[0m\u001b[1;33m(\u001b[0m\u001b[1;36m2022\u001b[0m\u001b[1;33m)\u001b[0m\u001b[1;33m\u001b[0m\u001b[1;33m\u001b[0m\u001b[0m\n\u001b[0m",
      "\u001b[1;32m<ipython-input-38-905fe2471ea0>\u001b[0m in \u001b[0;36mage\u001b[1;34m(self, current_year)\u001b[0m\n\u001b[0;32m     14\u001b[0m     \u001b[1;31m## create age function\u001b[0m\u001b[1;33m\u001b[0m\u001b[1;33m\u001b[0m\u001b[1;33m\u001b[0m\u001b[0m\n\u001b[0;32m     15\u001b[0m     \u001b[1;32mdef\u001b[0m \u001b[0mage\u001b[0m\u001b[1;33m(\u001b[0m\u001b[0mself\u001b[0m\u001b[1;33m,\u001b[0m\u001b[0mcurrent_year\u001b[0m\u001b[1;33m)\u001b[0m\u001b[1;33m:\u001b[0m\u001b[1;33m\u001b[0m\u001b[1;33m\u001b[0m\u001b[0m\n\u001b[1;32m---> 16\u001b[1;33m         \u001b[1;32mreturn\u001b[0m \u001b[0mcurrent_year\u001b[0m \u001b[1;33m-\u001b[0m \u001b[0ma\u001b[0m\u001b[1;33m.\u001b[0m\u001b[0myear\u001b[0m\u001b[1;33m\u001b[0m\u001b[1;33m\u001b[0m\u001b[0m\n\u001b[0m",
      "\u001b[1;31mNameError\u001b[0m: name 'a' is not defined"
     ]
    }
   ],
   "source": [
    "## here we will get an error as we are not using local pointer \n",
    "\n",
    "nano.age(2022)"
   ]
  },
  {
   "cell_type": "code",
   "execution_count": 57,
   "metadata": {},
   "outputs": [],
   "source": [
    "class car:\n",
    "    \n",
    "    ## init function is used to provide data to the class\n",
    "    ## self is a pointer to the same class\n",
    "    \n",
    "    ## self is not a keyword we can use anything inplace of self\n",
    "    def __init__(a,m,y,make,mo):\n",
    "        a.milage = m\n",
    "        a.year = y\n",
    "        a.make = make\n",
    "        a.model = mo\n",
    "        \n",
    "        \n",
    "    ## create age function\n",
    "    def age(b,current_year):\n",
    "        return current_year - b.year\n",
    "    \n",
    "    def milage1(self):\n",
    "        print(\"print the milage of car: \",self.milage)"
   ]
  },
  {
   "cell_type": "code",
   "execution_count": 58,
   "metadata": {},
   "outputs": [],
   "source": [
    "nano = car(m = 20, y = 2020, make = 345, mo = 'dshjs')"
   ]
  },
  {
   "cell_type": "code",
   "execution_count": 59,
   "metadata": {},
   "outputs": [
    {
     "data": {
      "text/plain": [
       "2"
      ]
     },
     "execution_count": 59,
     "metadata": {},
     "output_type": "execute_result"
    }
   ],
   "source": [
    "nano.age(2022)"
   ]
  },
  {
   "cell_type": "code",
   "execution_count": 60,
   "metadata": {},
   "outputs": [
    {
     "data": {
      "text/plain": [
       "20"
      ]
     },
     "execution_count": 60,
     "metadata": {},
     "output_type": "execute_result"
    }
   ],
   "source": [
    "nano.milage"
   ]
  },
  {
   "cell_type": "code",
   "execution_count": 61,
   "metadata": {},
   "outputs": [
    {
     "name": "stdout",
     "output_type": "stream",
     "text": [
      "print the milage of car:  20\n"
     ]
    }
   ],
   "source": [
    "nano.milage1()"
   ]
  },
  {
   "cell_type": "code",
   "execution_count": 53,
   "metadata": {},
   "outputs": [],
   "source": [
    "class car:\n",
    "    \n",
    "    ## init function is used to provide data to the class\n",
    "    ## self is a pointer to the same class\n",
    "    \n",
    "    ## self is not a keyword we can use anything inplace of self\n",
    "    def __init__(a,m,y,make,mo):\n",
    "        a.milage = m\n",
    "        a.year = y\n",
    "        a.make = make\n",
    "        a.model = mo\n",
    "        \n",
    "        \n",
    "    ## create age function\n",
    "    def age(b,current_year):\n",
    "        return current_year - b.year\n",
    "    \n",
    "    def milage1(self):\n",
    "        ##print(\"print the milage of car: \",self.milage)\n",
    "        return self.milage"
   ]
  },
  {
   "cell_type": "code",
   "execution_count": 54,
   "metadata": {},
   "outputs": [],
   "source": [
    "nano = car(m = 20, y = 2020, make = 345, mo = 'dshjs')"
   ]
  },
  {
   "cell_type": "code",
   "execution_count": 55,
   "metadata": {},
   "outputs": [
    {
     "data": {
      "text/plain": [
       "20"
      ]
     },
     "execution_count": 55,
     "metadata": {},
     "output_type": "execute_result"
    }
   ],
   "source": [
    "nano.milage"
   ]
  },
  {
   "cell_type": "code",
   "execution_count": 56,
   "metadata": {},
   "outputs": [
    {
     "data": {
      "text/plain": [
       "20"
      ]
     },
     "execution_count": 56,
     "metadata": {},
     "output_type": "execute_result"
    }
   ],
   "source": [
    "nano.milage1()"
   ]
  },
  {
   "cell_type": "code",
   "execution_count": 62,
   "metadata": {},
   "outputs": [
    {
     "data": {
      "text/plain": [
       "<__main__.car at 0x24f556ae2e0>"
      ]
     },
     "execution_count": 62,
     "metadata": {},
     "output_type": "execute_result"
    }
   ],
   "source": [
    "nano"
   ]
  },
  {
   "cell_type": "code",
   "execution_count": 63,
   "metadata": {},
   "outputs": [],
   "source": [
    "class car:\n",
    "    \n",
    "    ## init function is used to provide data to the class\n",
    "    ## self is a pointer to the same class\n",
    "    \n",
    "    ## self is not a keyword we can use anything inplace of self\n",
    "    def __init__(a,m,y,make,mo):\n",
    "        a.milage = m\n",
    "        a.year = y\n",
    "        a.make = make\n",
    "        a.model = mo\n",
    "        \n",
    "        \n",
    "    ## create age function\n",
    "    def age(b,current_year):\n",
    "        return current_year - b.year\n",
    "    \n",
    "    def milage1(self):\n",
    "        ##print(\"print the milage of car: \",self.milage)\n",
    "        return self.milage\n",
    "    \n",
    "    def __str__(self):\n",
    "        return \"This is my car class.\""
   ]
  },
  {
   "cell_type": "code",
   "execution_count": 64,
   "metadata": {},
   "outputs": [],
   "source": [
    "nano = car(m = 20, y = 2020, make = 345, mo = 'dshjs')"
   ]
  },
  {
   "cell_type": "code",
   "execution_count": 65,
   "metadata": {},
   "outputs": [
    {
     "data": {
      "text/plain": [
       "<__main__.car at 0x24f54f0f6d0>"
      ]
     },
     "execution_count": 65,
     "metadata": {},
     "output_type": "execute_result"
    }
   ],
   "source": [
    "nano"
   ]
  },
  {
   "cell_type": "code",
   "execution_count": 66,
   "metadata": {},
   "outputs": [
    {
     "name": "stdout",
     "output_type": "stream",
     "text": [
      "This is my car class.\n"
     ]
    }
   ],
   "source": [
    "print(nano)"
   ]
  },
  {
   "cell_type": "code",
   "execution_count": 152,
   "metadata": {},
   "outputs": [],
   "source": [
    "class student:\n",
    "    def __init__(self,name,rollno, join_date, current_topic):\n",
    "        self.name = name\n",
    "        self.roll_no = rollno\n",
    "        self.join_date = join_date\n",
    "        self.current_topic = current_topic\n",
    "        \n",
    "    def __str__(self):\n",
    "        return \"This is the student calss\"\n",
    "        \n",
    "    def crt_topic(self):\n",
    "        print(\"Current topic discussed in my class is\",self.current_topic)\n",
    "        \n",
    "    def str_rollno(self):\n",
    "        try:\n",
    "            if type(self.roll_no) == str:\n",
    "                print(\"Do nothing\")\n",
    "            else:\n",
    "                return str(self.roll_no)\n",
    "        except Exception as e:\n",
    "            print(\"An error has occured \",e)\n",
    "        \n",
    "    def duration(self,current_date):\n",
    "        dur = current_date-self.join_date\n",
    "        print(\"duration is \", dur)\n",
    "        \n",
    "    def name_parse(self):\n",
    "        if type(self.name) == list:\n",
    "            for i in self.name:\n",
    "                print(i)\n",
    "        else:\n",
    "            print(self.name)"
   ]
  },
  {
   "cell_type": "code",
   "execution_count": 153,
   "metadata": {},
   "outputs": [],
   "source": [
    "sachin = student(name = \"Sachin\", rollno = 45655, join_date = 2021, current_topic = 'OOPs')"
   ]
  },
  {
   "cell_type": "code",
   "execution_count": 154,
   "metadata": {},
   "outputs": [
    {
     "name": "stdout",
     "output_type": "stream",
     "text": [
      "Sachin\n"
     ]
    }
   ],
   "source": [
    "sachin.name_parse()"
   ]
  },
  {
   "cell_type": "code",
   "execution_count": 155,
   "metadata": {},
   "outputs": [],
   "source": [
    "abc = student([\"naveen\",\"praveen\",\"pawan\",\"jay\"],[12,14,26,86],2021,\"OOPs\")"
   ]
  },
  {
   "cell_type": "code",
   "execution_count": 156,
   "metadata": {},
   "outputs": [
    {
     "name": "stdout",
     "output_type": "stream",
     "text": [
      "naveen\n",
      "praveen\n",
      "pawan\n",
      "jay\n"
     ]
    }
   ],
   "source": [
    "abc.name_parse()"
   ]
  },
  {
   "cell_type": "code",
   "execution_count": 138,
   "metadata": {},
   "outputs": [
    {
     "name": "stdout",
     "output_type": "stream",
     "text": [
      "This is the student calss\n"
     ]
    }
   ],
   "source": [
    "print(sachin)"
   ]
  },
  {
   "cell_type": "code",
   "execution_count": 139,
   "metadata": {},
   "outputs": [
    {
     "data": {
      "text/plain": [
       "45655"
      ]
     },
     "execution_count": 139,
     "metadata": {},
     "output_type": "execute_result"
    }
   ],
   "source": [
    "sachin.roll_no"
   ]
  },
  {
   "cell_type": "code",
   "execution_count": 140,
   "metadata": {},
   "outputs": [
    {
     "data": {
      "text/plain": [
       "'45655'"
      ]
     },
     "execution_count": 140,
     "metadata": {},
     "output_type": "execute_result"
    }
   ],
   "source": [
    "sachin.str_rollno()"
   ]
  },
  {
   "cell_type": "code",
   "execution_count": 141,
   "metadata": {},
   "outputs": [
    {
     "name": "stdout",
     "output_type": "stream",
     "text": [
      "Current topic discussed in my class is OOPs\n"
     ]
    }
   ],
   "source": [
    "sachin.crt_topic()"
   ]
  },
  {
   "cell_type": "code",
   "execution_count": 142,
   "metadata": {},
   "outputs": [
    {
     "name": "stdout",
     "output_type": "stream",
     "text": [
      "duration is  1\n"
     ]
    }
   ],
   "source": [
    "sachin.duration(2022)"
   ]
  },
  {
   "cell_type": "code",
   "execution_count": 143,
   "metadata": {},
   "outputs": [],
   "source": [
    "abc = student([\"naveen\",\"praveen\",\"pawan\",\"jay\"],[12,14,26,86],2021,\"OOPs\")"
   ]
  },
  {
   "cell_type": "code",
   "execution_count": 144,
   "metadata": {},
   "outputs": [
    {
     "data": {
      "text/plain": [
       "['naveen', 'praveen', 'pawan', 'jay']"
      ]
     },
     "execution_count": 144,
     "metadata": {},
     "output_type": "execute_result"
    }
   ],
   "source": [
    "abc.name"
   ]
  },
  {
   "cell_type": "code",
   "execution_count": 145,
   "metadata": {},
   "outputs": [
    {
     "data": {
      "text/plain": [
       "[12, 14, 26, 86]"
      ]
     },
     "execution_count": 145,
     "metadata": {},
     "output_type": "execute_result"
    }
   ],
   "source": [
    "abc.roll_no"
   ]
  },
  {
   "cell_type": "code",
   "execution_count": 157,
   "metadata": {},
   "outputs": [
    {
     "data": {
      "text/plain": [
       "'D:\\\\Sachin\\\\Courses\\\\FullStack Data Science'"
      ]
     },
     "execution_count": 157,
     "metadata": {},
     "output_type": "execute_result"
    }
   ],
   "source": [
    "pwd()"
   ]
  },
  {
   "cell_type": "code",
   "execution_count": 173,
   "metadata": {},
   "outputs": [],
   "source": [
    "class data:\n",
    "    \n",
    "    def __init__(self, filename,file_type,date,size):\n",
    "        self.filename = filename\n",
    "        self.file_type = file_type\n",
    "        self.date = date\n",
    "        self.size = size\n",
    "    \n",
    "    \n",
    "    def file_open(self):\n",
    "        try:\n",
    "            if self.filename + \".\" + self.file_type in 'D:\\\\Sachin\\\\Courses\\\\FullStack Data Science':\n",
    "                f = open(self.filename + \".\" + self.file_type, 'r+')\n",
    "                print(f.read())\n",
    "            else:\n",
    "                f = open(self.filename + \".\" + self.file_type, 'w+')\n",
    "                print(f.read())\n",
    "        except Exception as e:\n",
    "            print(f\"An error {e} has occured\")\n",
    "            self.logging(e)\n",
    "            \n",
    "    def file_read(self):\n",
    "        try:\n",
    "            f = open(self.filename + \".\" + self.file_type,'r')\n",
    "            print(f.read())\n",
    "        except Exception as e:\n",
    "            print(f\"An error {e} has occured\")\n",
    "            self.logging(e)\n",
    "            \n",
    "    def append_data(self):\n",
    "        try:\n",
    "            i = input(\"Please enter a message to append to file\")\n",
    "            f = open(self.filename + \".\" + self.file_type,'a')\n",
    "            f.write(i)\n",
    "        except Exception as e:\n",
    "            print(f\"An error {e} has occured\")\n",
    "            self.logging(e)\n",
    "        \n",
    "    def close_file(self):\n",
    "        try:\n",
    "            f = open(self.filename + \".\" + self.file_type,'r')\n",
    "            f.close()\n",
    "        except Exception as e:\n",
    "            print(f\"An error {e} has occured\")\n",
    "            self.logging(e)\n",
    "        \n",
    "    def logging(self,log):\n",
    "        import logging as lg\n",
    "        lg.basicConfig(filename = \"OOPs.log\", level = lg.ERROR)\n",
    "        lg.error(log)"
   ]
  },
  {
   "cell_type": "code",
   "execution_count": 174,
   "metadata": {},
   "outputs": [],
   "source": [
    "myfile = data('test','txt',2022,14)"
   ]
  },
  {
   "cell_type": "code",
   "execution_count": 175,
   "metadata": {},
   "outputs": [
    {
     "data": {
      "text/plain": [
       "'test'"
      ]
     },
     "execution_count": 175,
     "metadata": {},
     "output_type": "execute_result"
    }
   ],
   "source": [
    "myfile.filename"
   ]
  },
  {
   "cell_type": "code",
   "execution_count": 185,
   "metadata": {},
   "outputs": [
    {
     "data": {
      "text/plain": [
       "'txt'"
      ]
     },
     "execution_count": 185,
     "metadata": {},
     "output_type": "execute_result"
    }
   ],
   "source": [
    "myfile.file_type"
   ]
  },
  {
   "cell_type": "code",
   "execution_count": 177,
   "metadata": {},
   "outputs": [
    {
     "data": {
      "text/plain": [
       "2022"
      ]
     },
     "execution_count": 177,
     "metadata": {},
     "output_type": "execute_result"
    }
   ],
   "source": [
    "myfile.date"
   ]
  },
  {
   "cell_type": "code",
   "execution_count": 178,
   "metadata": {},
   "outputs": [
    {
     "data": {
      "text/plain": [
       "14"
      ]
     },
     "execution_count": 178,
     "metadata": {},
     "output_type": "execute_result"
    }
   ],
   "source": [
    "myfile.size"
   ]
  },
  {
   "cell_type": "code",
   "execution_count": 179,
   "metadata": {},
   "outputs": [
    {
     "name": "stdout",
     "output_type": "stream",
     "text": [
      "\n"
     ]
    }
   ],
   "source": [
    "myfile.file_open()"
   ]
  },
  {
   "cell_type": "code",
   "execution_count": 181,
   "metadata": {},
   "outputs": [
    {
     "name": "stdout",
     "output_type": "stream",
     "text": [
      "Please enter a message to append to file154561\n"
     ]
    }
   ],
   "source": [
    "myfile.append_data()"
   ]
  },
  {
   "cell_type": "code",
   "execution_count": 182,
   "metadata": {},
   "outputs": [
    {
     "name": "stdout",
     "output_type": "stream",
     "text": [
      "154561\n"
     ]
    }
   ],
   "source": [
    "myfile.file_read()"
   ]
  },
  {
   "cell_type": "code",
   "execution_count": 183,
   "metadata": {},
   "outputs": [],
   "source": [
    "myfile.close_file()"
   ]
  },
  {
   "cell_type": "code",
   "execution_count": 184,
   "metadata": {},
   "outputs": [],
   "source": [
    "myfile.logging(\"sdjhbsd\")"
   ]
  },
  {
   "cell_type": "code",
   "execution_count": null,
   "metadata": {},
   "outputs": [],
   "source": []
  },
  {
   "cell_type": "code",
   "execution_count": null,
   "metadata": {},
   "outputs": [],
   "source": []
  },
  {
   "cell_type": "code",
   "execution_count": null,
   "metadata": {},
   "outputs": [],
   "source": []
  },
  {
   "cell_type": "markdown",
   "metadata": {},
   "source": [
    "#### ABSTRACTION"
   ]
  },
  {
   "cell_type": "markdown",
   "metadata": {},
   "source": [
    "not allowing to access the variable\n",
    "\n",
    "a process of handling complexity by hiding unnecessary information from the user"
   ]
  },
  {
   "cell_type": "code",
   "execution_count": 191,
   "metadata": {},
   "outputs": [],
   "source": [
    "class test:\n",
    "    def __init__(self,a,b,c,d):\n",
    "        self.a = a\n",
    "        self.b = b\n",
    "        self.c = c\n",
    "        self.d = d\n",
    "        \n",
    "    def test_custome(self,v):\n",
    "        return v - self.a\n",
    "    \n",
    "    def __str__(self):\n",
    "        return \"This is my test code for abstraction.\""
   ]
  },
  {
   "cell_type": "code",
   "execution_count": 187,
   "metadata": {},
   "outputs": [],
   "source": [
    "o = test(4,5,6,7)"
   ]
  },
  {
   "cell_type": "code",
   "execution_count": 188,
   "metadata": {},
   "outputs": [
    {
     "data": {
      "text/plain": [
       "3"
      ]
     },
     "execution_count": 188,
     "metadata": {},
     "output_type": "execute_result"
    }
   ],
   "source": [
    "o.test_custome(7)"
   ]
  },
  {
   "cell_type": "code",
   "execution_count": 189,
   "metadata": {},
   "outputs": [
    {
     "name": "stdout",
     "output_type": "stream",
     "text": [
      "This is my test code for abstraction.\n"
     ]
    }
   ],
   "source": [
    "print(o)"
   ]
  },
  {
   "cell_type": "code",
   "execution_count": 192,
   "metadata": {},
   "outputs": [],
   "source": [
    "### private variable: have access within the class but access outside the class"
   ]
  },
  {
   "cell_type": "code",
   "execution_count": 193,
   "metadata": {},
   "outputs": [],
   "source": [
    "### create a private variable with __ suffix\n",
    "\n",
    "class test:\n",
    "    def __init__(self,a,b,c,d):\n",
    "        self.__a = a\n",
    "        self.b = b\n",
    "        self.c = c\n",
    "        self.d = d\n",
    "        \n",
    "    def test_custome(self,v):\n",
    "        return v - self.__a\n",
    "    \n",
    "    def __str__(self):\n",
    "        return \"This is my test code for abstraction.\""
   ]
  },
  {
   "cell_type": "code",
   "execution_count": 197,
   "metadata": {},
   "outputs": [],
   "source": [
    "o = test(4,5,6,7)"
   ]
  },
  {
   "cell_type": "code",
   "execution_count": 199,
   "metadata": {},
   "outputs": [
    {
     "ename": "AttributeError",
     "evalue": "'test' object has no attribute '__a'",
     "output_type": "error",
     "traceback": [
      "\u001b[1;31m---------------------------------------------------------------------------\u001b[0m",
      "\u001b[1;31mAttributeError\u001b[0m                            Traceback (most recent call last)",
      "\u001b[1;32m<ipython-input-199-e41182ca2bad>\u001b[0m in \u001b[0;36m<module>\u001b[1;34m\u001b[0m\n\u001b[0;32m      1\u001b[0m \u001b[1;31m## here a is a private varible so we are not able to access it outside the class\u001b[0m\u001b[1;33m\u001b[0m\u001b[1;33m\u001b[0m\u001b[1;33m\u001b[0m\u001b[0m\n\u001b[1;32m----> 2\u001b[1;33m \u001b[0mo\u001b[0m\u001b[1;33m.\u001b[0m\u001b[0m__a\u001b[0m\u001b[1;33m\u001b[0m\u001b[1;33m\u001b[0m\u001b[0m\n\u001b[0m",
      "\u001b[1;31mAttributeError\u001b[0m: 'test' object has no attribute '__a'"
     ]
    }
   ],
   "source": [
    "## here a is a private varible so we are not able to access it outside the class\n",
    "o.__a"
   ]
  },
  {
   "cell_type": "code",
   "execution_count": 200,
   "metadata": {},
   "outputs": [
    {
     "data": {
      "text/plain": [
       "4"
      ]
     },
     "execution_count": 200,
     "metadata": {},
     "output_type": "execute_result"
    }
   ],
   "source": [
    "##object._classname__variablename\n",
    "\n",
    "o._test__a"
   ]
  },
  {
   "cell_type": "markdown",
   "metadata": {},
   "source": [
    "#### INHERITANCE"
   ]
  },
  {
   "cell_type": "code",
   "execution_count": 207,
   "metadata": {},
   "outputs": [
    {
     "data": {
      "text/plain": [
       "6"
      ]
     },
     "execution_count": 207,
     "metadata": {},
     "output_type": "execute_result"
    }
   ],
   "source": [
    "class test1(test): ### calling previous class in new class\n",
    "    def __init__(self,j,*args):\n",
    "        ## here super(test1) means parent class of test1 i.e. test class\n",
    "        ## and we need to use __init__ in order to initialize the test class\n",
    "        super(test1,self).__init__(*args)\n",
    "        self.j = j\n",
    "        \n",
    "m = test1(4,5,6,7,8)\n",
    "m.b\n"
   ]
  },
  {
   "cell_type": "code",
   "execution_count": 208,
   "metadata": {},
   "outputs": [
    {
     "data": {
      "text/plain": [
       "4"
      ]
     },
     "execution_count": 208,
     "metadata": {},
     "output_type": "execute_result"
    }
   ],
   "source": [
    "m.j"
   ]
  },
  {
   "cell_type": "code",
   "execution_count": 209,
   "metadata": {},
   "outputs": [
    {
     "data": {
      "text/plain": [
       "3"
      ]
     },
     "execution_count": 209,
     "metadata": {},
     "output_type": "execute_result"
    }
   ],
   "source": [
    "m.test_custome(8)"
   ]
  },
  {
   "cell_type": "code",
   "execution_count": 218,
   "metadata": {},
   "outputs": [],
   "source": [
    "# 1. create class test and test1\n",
    "# 2. inherit test and test1 into test2\n",
    "# 3. function a in test\n",
    "# 4. function a in test1\n",
    "# 5. test2 should inherit function a from test and test1"
   ]
  },
  {
   "cell_type": "code",
   "execution_count": 234,
   "metadata": {},
   "outputs": [
    {
     "name": "stdout",
     "output_type": "stream",
     "text": [
      "THis is class test\n",
      "THis is class test1\n"
     ]
    }
   ],
   "source": [
    "class test:\n",
    "    def a(self):\n",
    "        print(\"THis is class test\")\n",
    "        \n",
    "class test1:\n",
    "    def a(self):\n",
    "        print(\"THis is class test1\")\n",
    "        \n",
    "class test2():\n",
    "    def b(self):\n",
    "        test.a(self)\n",
    "        test1.a(self)\n",
    "\n",
    "m = test2()\n",
    "m.b()"
   ]
  },
  {
   "cell_type": "code",
   "execution_count": 221,
   "metadata": {},
   "outputs": [
    {
     "name": "stdout",
     "output_type": "stream",
     "text": [
      "test class\n",
      "test1 class\n"
     ]
    }
   ],
   "source": [
    "class test:\n",
    "    def a(self):\n",
    "        print(\"test class\")\n",
    "        \n",
    "class test1:\n",
    "    def a(self):\n",
    "        print(\"test1 class\")\n",
    "        \n",
    "class test2(test,test1):\n",
    "    t1 = test()\n",
    "    t1.a()\n",
    "    t2 = test1()\n",
    "    t2.a()\n",
    "    \n",
    "t = test2()\n"
   ]
  },
  {
   "cell_type": "code",
   "execution_count": 222,
   "metadata": {},
   "outputs": [
    {
     "name": "stdout",
     "output_type": "stream",
     "text": [
      "test class\n",
      "test1 class\n"
     ]
    }
   ],
   "source": [
    "class test:\n",
    "    def a(self):\n",
    "        print(\"test class\")\n",
    "        \n",
    "class test1:\n",
    "    def a(self):\n",
    "        print(\"test1 class\")\n",
    "        \n",
    "class test2():\n",
    "    t1 = test()\n",
    "    t1.a()\n",
    "    t2 = test1()\n",
    "    t2.a()\n",
    "    \n",
    "t = test2()\n"
   ]
  },
  {
   "cell_type": "code",
   "execution_count": 239,
   "metadata": {},
   "outputs": [],
   "source": [
    "class Ineuron:\n",
    "    comapny_website = \"https://ineuron.ai/\"\n",
    "    name = \"INeuron\"\n",
    "    \n",
    "    def contact_details(self):\n",
    "        print(\"Contact us at \", self.comapny_website)\n",
    "        \n",
    "class DataScience(Ineuron):\n",
    "    def __init__(self):\n",
    "        self.year_of_establishment = 2018\n",
    "    \n",
    "    def est_details(self):\n",
    "        print(\"{0} Comany was established in {1}\".format(self.name,self.year_of_establishment))"
   ]
  },
  {
   "cell_type": "code",
   "execution_count": 240,
   "metadata": {},
   "outputs": [
    {
     "name": "stdout",
     "output_type": "stream",
     "text": [
      "INeuron Comany was established in 2018\n"
     ]
    }
   ],
   "source": [
    "ds = DataScience()\n",
    "ds.est_details()"
   ]
  },
  {
   "cell_type": "code",
   "execution_count": 242,
   "metadata": {},
   "outputs": [
    {
     "name": "stdout",
     "output_type": "stream",
     "text": [
      "Multi Task\n",
      "Name: Windows OS\n"
     ]
    }
   ],
   "source": [
    "class OS:\n",
    "    multi_task = True ## flag\n",
    "    name = \"Windows OS\"\n",
    "    \n",
    "class Windows(OS,Ineuron):\n",
    "    def __init__(self):\n",
    "        if self.multi_task == True:\n",
    "            print(\"Multi Task\")\n",
    "        print(\"Name: {}\".format(self.name))\n",
    "        \n",
    "windows = Windows()"
   ]
  },
  {
   "cell_type": "code",
   "execution_count": 244,
   "metadata": {},
   "outputs": [
    {
     "name": "stdout",
     "output_type": "stream",
     "text": [
      "Multi Task\n",
      "Name: INeuron\n"
     ]
    }
   ],
   "source": [
    "class OS:\n",
    "    multi_task = True ## flag\n",
    "    name = \"Windows OS\"\n",
    "    \n",
    "class Windows(Ineuron,OS):## gives priority acc to class name\n",
    "    def __init__(self):\n",
    "        if self.multi_task == True:\n",
    "            print(\"Multi Task\")\n",
    "        print(\"Name: {}\".format(self.name))\n",
    "        \n",
    "windows = Windows()"
   ]
  },
  {
   "cell_type": "code",
   "execution_count": 247,
   "metadata": {},
   "outputs": [],
   "source": [
    "class iNeuron:\n",
    "    num_of_courses = 12\n",
    "    \n",
    "class DataScience(iNeuron):\n",
    "    course_type = \"Data-Science\"\n",
    "    \n",
    "class AI(DataScience):\n",
    "    def __init__(self):\n",
    "        self.company = \"iNeuron\"\n",
    "        print(\"The company {0} offers total {1} different courses and most trending one is {2}\".format(self.company,self.num_of_courses,self.course_type))"
   ]
  },
  {
   "cell_type": "code",
   "execution_count": 248,
   "metadata": {},
   "outputs": [
    {
     "name": "stdout",
     "output_type": "stream",
     "text": [
      "The company iNeuron offers total 12 different courses and most trending one is Data-Science\n"
     ]
    }
   ],
   "source": [
    "AI = AI()"
   ]
  },
  {
   "cell_type": "markdown",
   "metadata": {},
   "source": [
    "#### ENCAPSULATION"
   ]
  },
  {
   "cell_type": "markdown",
   "metadata": {},
   "source": [
    "Encapsulation is a way of extending the classes in such a way that it will consist wraping of the object\n",
    "\n",
    "Encapsulation is one of the fundamental concepts in object-oriented programming (OOP). It describes the idea of wrapping data and the methods that work on data within one unit. This puts restrictions on accessing variables and methods directly and can prevent the accidental modification of data. "
   ]
  },
  {
   "cell_type": "markdown",
   "metadata": {},
   "source": [
    "eg:- we take medical capsule for some disease but we don't know what's insde that capsule"
   ]
  },
  {
   "cell_type": "code",
   "execution_count": 266,
   "metadata": {},
   "outputs": [],
   "source": [
    "class test:\n",
    "    def __init__(self,a,b,c):\n",
    "        self.a = a\n",
    "        self.b = b\n",
    "        self.c = c\n",
    "        \n",
    "    def __str__(self):\n",
    "        return \"THis is form the test class\"\n",
    "    \n",
    "class test1:\n",
    "    def __init__(self,a,b,c):\n",
    "        self.a = a\n",
    "        self.b = b\n",
    "        self.c = c\n",
    "    \n",
    "    def __str__(self):\n",
    "        return \"THis is form the test1 class\"\n",
    "\n",
    "class test2:\n",
    "    def __init__(self,a,b,c):\n",
    "        self.a = a\n",
    "        self.b = b\n",
    "        self.c = c\n",
    "    \n",
    "    def __str__(self):\n",
    "        return \"THis is form the test2 class\"\n",
    "    \n",
    "class final:\n",
    "    def __init__(self,x,y,z):\n",
    "        self.x = x\n",
    "        self.y = y\n",
    "        self.z = z\n",
    "        \n",
    "    def __str__(self):\n",
    "        return  str(self.x) + \" \" + str(self.y) + \" \" + str(self.z)"
   ]
  },
  {
   "cell_type": "code",
   "execution_count": 267,
   "metadata": {},
   "outputs": [],
   "source": [
    "t = test(4,5,6)\n",
    "t1 = test1(3,4,5)\n",
    "t2 = test2(5,6,7)\n",
    "f = final(t,t1,t2)"
   ]
  },
  {
   "cell_type": "code",
   "execution_count": 268,
   "metadata": {},
   "outputs": [
    {
     "name": "stdout",
     "output_type": "stream",
     "text": [
      "THis is form the test class THis is form the test1 class THis is form the test2 class\n"
     ]
    }
   ],
   "source": [
    "print(f)"
   ]
  },
  {
   "cell_type": "code",
   "execution_count": 272,
   "metadata": {},
   "outputs": [
    {
     "name": "stdout",
     "output_type": "stream",
     "text": [
      "Tyres: \n",
      " \tBranch: Pirelli\n",
      " \tBelted-bias: True\n",
      " \tOptimal Pressure: 2.0\n",
      "Engine: \n",
      " \tFuel Type: Diesel\n",
      " \tNoise Level: 3\n",
      "Body:\n",
      " \tSize: Medium\n",
      "Ford\n"
     ]
    }
   ],
   "source": [
    "class Tyres:\n",
    "    def __init__(self,branch, belted_bias, opt_pressure):\n",
    "        self.branch = branch\n",
    "        self.belted_bias = belted_bias\n",
    "        self.opt_pressure = opt_pressure\n",
    "        \n",
    "    def __str__(self):\n",
    "        return (\"Tyres: \\n \\tBranch: \" + self.branch +\n",
    "               \"\\n \\tBelted-bias: \" + str(self.belted_bias) + \n",
    "               \"\\n \\tOptimal Pressure: \"+ str(self.opt_pressure))\n",
    "    \n",
    "class Engine:\n",
    "    def __init__(self, fuel_type, noise_level):\n",
    "        self.fuel_type = fuel_type\n",
    "        self.noise_level = noise_level\n",
    "        \n",
    "    def __str__(self):\n",
    "        return (\"Engine: \\n \\tFuel Type: \" + self.fuel_type + \n",
    "               \"\\n \\tNoise Level: \" + str(self.noise_level))\n",
    "    \n",
    "class Body:\n",
    "    def __init__(self,size):\n",
    "        self.size = size\n",
    "        \n",
    "    def __str__(self):\n",
    "        return \"Body:\\n \\tSize: \" + self.size\n",
    "    \n",
    "class Car:\n",
    "    def __init__(self,name,tyres,engine,body):\n",
    "        self.name = name\n",
    "        self.tyres = tyres\n",
    "        self.engine = engine\n",
    "        self.body = body\n",
    "        \n",
    "    def __str__(self):\n",
    "        return str(self.tyres) + \"\\n\" + str(self.engine) + \"\\n\" + str(self.body) + \"\\n\" + str(self.name)\n",
    "    \n",
    "t = Tyres(\"Pirelli\", True, 2.0)\n",
    "e = Engine(\"Diesel\", 3)\n",
    "b = Body(\"Medium\")\n",
    "c = Car(\"Ford\", t,e,b)\n",
    "print(c)"
   ]
  },
  {
   "cell_type": "code",
   "execution_count": 273,
   "metadata": {},
   "outputs": [
    {
     "ename": "NameError",
     "evalue": "name 'a' is not defined",
     "output_type": "error",
     "traceback": [
      "\u001b[1;31m---------------------------------------------------------------------------\u001b[0m",
      "\u001b[1;31mNameError\u001b[0m                                 Traceback (most recent call last)",
      "\u001b[1;32m<ipython-input-273-2954dfeee9fb>\u001b[0m in \u001b[0;36m<module>\u001b[1;34m\u001b[0m\n\u001b[0;32m      8\u001b[0m         \u001b[0mself\u001b[0m\u001b[1;33m.\u001b[0m\u001b[0mparent_b\u001b[0m \u001b[1;33m=\u001b[0m \u001b[0mparent_b\u001b[0m\u001b[1;33m\u001b[0m\u001b[1;33m\u001b[0m\u001b[0m\n\u001b[0;32m      9\u001b[0m \u001b[1;33m\u001b[0m\u001b[0m\n\u001b[1;32m---> 10\u001b[1;33m \u001b[1;32mclass\u001b[0m \u001b[0mchild\u001b[0m\u001b[1;33m(\u001b[0m\u001b[0mparent\u001b[0m\u001b[1;33m)\u001b[0m\u001b[1;33m:\u001b[0m\u001b[1;33m\u001b[0m\u001b[1;33m\u001b[0m\u001b[0m\n\u001b[0m\u001b[0;32m     11\u001b[0m     \u001b[0mprint\u001b[0m\u001b[1;33m(\u001b[0m\u001b[0ma\u001b[0m\u001b[1;33m)\u001b[0m\u001b[1;33m\u001b[0m\u001b[1;33m\u001b[0m\u001b[0m\n",
      "\u001b[1;32m<ipython-input-273-2954dfeee9fb>\u001b[0m in \u001b[0;36mchild\u001b[1;34m()\u001b[0m\n\u001b[0;32m      9\u001b[0m \u001b[1;33m\u001b[0m\u001b[0m\n\u001b[0;32m     10\u001b[0m \u001b[1;32mclass\u001b[0m \u001b[0mchild\u001b[0m\u001b[1;33m(\u001b[0m\u001b[0mparent\u001b[0m\u001b[1;33m)\u001b[0m\u001b[1;33m:\u001b[0m\u001b[1;33m\u001b[0m\u001b[1;33m\u001b[0m\u001b[0m\n\u001b[1;32m---> 11\u001b[1;33m     \u001b[0mprint\u001b[0m\u001b[1;33m(\u001b[0m\u001b[0ma\u001b[0m\u001b[1;33m)\u001b[0m\u001b[1;33m\u001b[0m\u001b[1;33m\u001b[0m\u001b[0m\n\u001b[0m",
      "\u001b[1;31mNameError\u001b[0m: name 'a' is not defined"
     ]
    }
   ],
   "source": [
    "class parent:\n",
    "    \n",
    "    a = 10\n",
    "    b = 40\n",
    "    \n",
    "    def __init__(self,parent_a,parent_b):\n",
    "        self.parent_a = parent_a\n",
    "        self.parent_b = parent_b\n",
    "        \n",
    "class child(parent):\n",
    "    print(a)"
   ]
  },
  {
   "cell_type": "code",
   "execution_count": 274,
   "metadata": {},
   "outputs": [
    {
     "name": "stdout",
     "output_type": "stream",
     "text": [
      "10\n"
     ]
    }
   ],
   "source": [
    "class parent:\n",
    "    \n",
    "    a = 10\n",
    "    b = 40\n",
    "    \n",
    "    def __init__(self,parent_a,parent_b):\n",
    "        self.parent_a = parent_a\n",
    "        self.parent_b = parent_b\n",
    "        \n",
    "class child():\n",
    "    print(parent.a)"
   ]
  },
  {
   "cell_type": "code",
   "execution_count": 276,
   "metadata": {},
   "outputs": [
    {
     "name": "stdout",
     "output_type": "stream",
     "text": [
      "50\n"
     ]
    }
   ],
   "source": [
    "class parent:\n",
    "    \n",
    "    a = 10\n",
    "    b = 40\n",
    "    \n",
    "    def __init__(self,parent_a,parent_b):\n",
    "        self.parent_a = parent_a\n",
    "        self.parent_b = parent_b\n",
    "        \n",
    "class child():\n",
    "    parent.a = 50\n",
    "    print(parent.a)"
   ]
  },
  {
   "cell_type": "code",
   "execution_count": 277,
   "metadata": {},
   "outputs": [],
   "source": [
    "## encapsulation example\n",
    "\n",
    "class BonusDistribution:\n",
    "    \n",
    "    def __init__(self,employeeId,employeeRating):\n",
    "        self.empId = employeeId\n",
    "        self.empRating = employeeRating\n",
    "        self.__bonusforRatingA = \"70%\" ##making private variable\n",
    "        self.__bonusforRatingB = \"60%\" ##making private variable\n",
    "        self.__bonusforRatingC = \"50%\" ##making private variable\n",
    "        self.__bonusforRatingD = \"30%\" ##making private variable\n",
    "        self.__bonusforRatingForRest = \"No Bonus\" ##making private variable\n",
    "        \n",
    "    def bonusCalculator(self):\n",
    "        \n",
    "        if self.empRating == \"A\":\n",
    "            bonus = self.__bonusforRatingA\n",
    "            msg = \"Bonus for this employee is: \" + bonus\n",
    "            return msg\n",
    "        elif self.empRating == \"B\":\n",
    "            bonus = self.__bonusforRatingB\n",
    "            msg = \"Bonus for this employee is: \" + bonus\n",
    "            return msg\n",
    "        elif self.empRating == \"C\":\n",
    "            bonus = self.__bonusforRatingC\n",
    "            msg = \"Bonus for this employee is: \" + bonus\n",
    "            return msg\n",
    "        elif self.empRating == \"D\":\n",
    "            bonus = self.__bonusforRatingD\n",
    "            msg = \"Bonus for this employee is: \" + bonus\n",
    "            return msg\n",
    "        else:\n",
    "            bonus = self.__bonusforRatingForRest\n",
    "            msg = \"There is no bonus for this employee\" \n",
    "            return msg"
   ]
  },
  {
   "cell_type": "code",
   "execution_count": 278,
   "metadata": {},
   "outputs": [],
   "source": [
    "emp1 = BonusDistribution(1232,'B')\n",
    "emp2 = BonusDistribution(1342,'A')\n",
    "emp3 = BonusDistribution(1032,'E')"
   ]
  },
  {
   "cell_type": "code",
   "execution_count": 279,
   "metadata": {},
   "outputs": [
    {
     "data": {
      "text/plain": [
       "'Bonus for this employee is: 60%'"
      ]
     },
     "execution_count": 279,
     "metadata": {},
     "output_type": "execute_result"
    }
   ],
   "source": [
    "emp1.bonusCalculator()"
   ]
  },
  {
   "cell_type": "code",
   "execution_count": 280,
   "metadata": {},
   "outputs": [
    {
     "data": {
      "text/plain": [
       "'Bonus for this employee is: 70%'"
      ]
     },
     "execution_count": 280,
     "metadata": {},
     "output_type": "execute_result"
    }
   ],
   "source": [
    "emp2.bonusCalculator()"
   ]
  },
  {
   "cell_type": "code",
   "execution_count": 281,
   "metadata": {},
   "outputs": [
    {
     "data": {
      "text/plain": [
       "'There is no bonus for this employee'"
      ]
     },
     "execution_count": 281,
     "metadata": {},
     "output_type": "execute_result"
    }
   ],
   "source": [
    "emp3.bonusCalculator()"
   ]
  },
  {
   "cell_type": "code",
   "execution_count": 282,
   "metadata": {},
   "outputs": [],
   "source": [
    "## changig bonus% for employee with rating B\n",
    "emp1._BonusDistribution__bonusforRatingB = '90%'"
   ]
  },
  {
   "cell_type": "code",
   "execution_count": 283,
   "metadata": {},
   "outputs": [
    {
     "data": {
      "text/plain": [
       "'Bonus for this employee is: 90%'"
      ]
     },
     "execution_count": 283,
     "metadata": {},
     "output_type": "execute_result"
    }
   ],
   "source": [
    "emp1.bonusCalculator()"
   ]
  },
  {
   "cell_type": "code",
   "execution_count": 284,
   "metadata": {},
   "outputs": [],
   "source": [
    "emp4 = BonusDistribution(1123,'B')"
   ]
  },
  {
   "cell_type": "code",
   "execution_count": 285,
   "metadata": {},
   "outputs": [
    {
     "data": {
      "text/plain": [
       "'Bonus for this employee is: 60%'"
      ]
     },
     "execution_count": 285,
     "metadata": {},
     "output_type": "execute_result"
    }
   ],
   "source": [
    "emp4.bonusCalculator()"
   ]
  },
  {
   "cell_type": "code",
   "execution_count": 286,
   "metadata": {},
   "outputs": [],
   "source": [
    "### Right way to change the variable.\n",
    "\n",
    "\n",
    "class BonusDistribution:\n",
    "    \n",
    "    def __init__(self,employeeId,employeeRating):\n",
    "        self.empId = employeeId\n",
    "        self.empRating = employeeRating\n",
    "        self.__bonusforRatingA = \"70%\" ##making private variable\n",
    "        self.__bonusforRatingB = \"60%\" ##making private variable\n",
    "        self.__bonusforRatingC = \"50%\" ##making private variable\n",
    "        self.__bonusforRatingD = \"30%\" ##making private variable\n",
    "        self.__bonusforRatingForRest = \"No Bonus\" ##making private variable\n",
    "        \n",
    "    def bonusCalculator(self):\n",
    "        \n",
    "        if self.empRating == \"A\":\n",
    "            bonus = self.__bonusforRatingA\n",
    "            msg = \"Bonus for this employee is: \" + bonus\n",
    "            return msg\n",
    "        elif self.empRating == \"B\":\n",
    "            bonus = self.__bonusforRatingB\n",
    "            msg = \"Bonus for this employee is: \" + bonus\n",
    "            return msg\n",
    "        elif self.empRating == \"C\":\n",
    "            bonus = self.__bonusforRatingC\n",
    "            msg = \"Bonus for this employee is: \" + bonus\n",
    "            return msg\n",
    "        elif self.empRating == \"D\":\n",
    "            bonus = self.__bonusforRatingD\n",
    "            msg = \"Bonus for this employee is: \" + bonus\n",
    "            return msg\n",
    "        else:\n",
    "            bonus = self.__bonusforRatingForRest\n",
    "            msg = \"There is no bonus for this employee\" \n",
    "            return msg\n",
    "        \n",
    "    def changevariable(self,value):\n",
    "        self.__bonusforRatingB = str(value) + \"%\""
   ]
  },
  {
   "cell_type": "code",
   "execution_count": 287,
   "metadata": {},
   "outputs": [],
   "source": [
    "emp1 = BonusDistribution(1232,'B')"
   ]
  },
  {
   "cell_type": "code",
   "execution_count": 288,
   "metadata": {},
   "outputs": [
    {
     "data": {
      "text/plain": [
       "'Bonus for this employee is: 60%'"
      ]
     },
     "execution_count": 288,
     "metadata": {},
     "output_type": "execute_result"
    }
   ],
   "source": [
    "emp1.bonusCalculator()"
   ]
  },
  {
   "cell_type": "code",
   "execution_count": 289,
   "metadata": {},
   "outputs": [],
   "source": [
    "emp1.changevariable(85)"
   ]
  },
  {
   "cell_type": "code",
   "execution_count": 290,
   "metadata": {},
   "outputs": [
    {
     "data": {
      "text/plain": [
       "'Bonus for this employee is: 85%'"
      ]
     },
     "execution_count": 290,
     "metadata": {},
     "output_type": "execute_result"
    }
   ],
   "source": [
    "emp1.bonusCalculator()"
   ]
  },
  {
   "cell_type": "code",
   "execution_count": 291,
   "metadata": {},
   "outputs": [],
   "source": [
    "emp2 = BonusDistribution(1342,'B')"
   ]
  },
  {
   "cell_type": "code",
   "execution_count": 292,
   "metadata": {},
   "outputs": [
    {
     "data": {
      "text/plain": [
       "'Bonus for this employee is: 60%'"
      ]
     },
     "execution_count": 292,
     "metadata": {},
     "output_type": "execute_result"
    }
   ],
   "source": [
    "emp2.bonusCalculator()"
   ]
  },
  {
   "cell_type": "code",
   "execution_count": 293,
   "metadata": {},
   "outputs": [
    {
     "data": {
      "text/plain": [
       "'Bonus for this employee is: 85%'"
      ]
     },
     "execution_count": 293,
     "metadata": {},
     "output_type": "execute_result"
    }
   ],
   "source": [
    "emp1.bonusCalculator()"
   ]
  },
  {
   "cell_type": "code",
   "execution_count": 294,
   "metadata": {},
   "outputs": [],
   "source": [
    "### Right way to change the variable.\n",
    "\n",
    "\n",
    "class BonusDistribution:\n",
    "    \n",
    "    def __init__(self,employeeId,employeeRating):\n",
    "        self.empId = employeeId\n",
    "        self.empRating = employeeRating\n",
    "        self.__bonusforRatingA = \"70%\" ##making private variable\n",
    "        self.__bonusforRatingB = \"60%\" ##making private variable\n",
    "        self.__bonusforRatingC = \"50%\" ##making private variable\n",
    "        self.__bonusforRatingD = \"30%\" ##making private variable\n",
    "        self.__bonusforRatingForRest = \"No Bonus\" ##making private variable\n",
    "        \n",
    "    def bonusCalculator(self):\n",
    "        \n",
    "        if self.empRating == \"A\":\n",
    "            bonus = self.__bonusforRatingA\n",
    "            msg = \"Bonus for this employee is: \" + bonus\n",
    "            return msg\n",
    "        elif self.empRating == \"B\":\n",
    "            bonus = self.__bonusforRatingB\n",
    "            msg = \"Bonus for this employee is: \" + bonus\n",
    "            return msg\n",
    "        elif self.empRating == \"C\":\n",
    "            bonus = self.__bonusforRatingC\n",
    "            msg = \"Bonus for this employee is: \" + bonus\n",
    "            return msg\n",
    "        elif self.empRating == \"D\":\n",
    "            bonus = self.__bonusforRatingD\n",
    "            msg = \"Bonus for this employee is: \" + bonus\n",
    "            return msg\n",
    "        else:\n",
    "            bonus = self.__bonusforRatingForRest\n",
    "            msg = \"There is no bonus for this employee\" \n",
    "            return msg\n",
    "    \n",
    "    ## creating private function\n",
    "    def __changevariable(self,value):\n",
    "        self.__bonusforRatingB = str(value) + \"%\""
   ]
  },
  {
   "cell_type": "code",
   "execution_count": 295,
   "metadata": {},
   "outputs": [],
   "source": [
    "emp1 = BonusDistribution(1232,'B')\n",
    "emp2 = BonusDistribution(1342,'A')\n",
    "emp3 = BonusDistribution(1032,'E')"
   ]
  },
  {
   "cell_type": "code",
   "execution_count": 298,
   "metadata": {},
   "outputs": [
    {
     "ename": "AttributeError",
     "evalue": "'BonusDistribution' object has no attribute '__changevariable'",
     "output_type": "error",
     "traceback": [
      "\u001b[1;31m---------------------------------------------------------------------------\u001b[0m",
      "\u001b[1;31mAttributeError\u001b[0m                            Traceback (most recent call last)",
      "\u001b[1;32m<ipython-input-298-58bf23f07652>\u001b[0m in \u001b[0;36m<module>\u001b[1;34m\u001b[0m\n\u001b[1;32m----> 1\u001b[1;33m \u001b[0memp1\u001b[0m\u001b[1;33m.\u001b[0m\u001b[0m__changevariable\u001b[0m\u001b[1;33m(\u001b[0m\u001b[1;36m85\u001b[0m\u001b[1;33m)\u001b[0m\u001b[1;33m\u001b[0m\u001b[1;33m\u001b[0m\u001b[0m\n\u001b[0m",
      "\u001b[1;31mAttributeError\u001b[0m: 'BonusDistribution' object has no attribute '__changevariable'"
     ]
    }
   ],
   "source": [
    "emp1.__changevariable(85)"
   ]
  },
  {
   "cell_type": "code",
   "execution_count": 301,
   "metadata": {},
   "outputs": [],
   "source": [
    "emp1._BonusDistribution__changevariable(85)"
   ]
  },
  {
   "cell_type": "code",
   "execution_count": 302,
   "metadata": {},
   "outputs": [
    {
     "data": {
      "text/plain": [
       "'Bonus for this employee is: 85%'"
      ]
     },
     "execution_count": 302,
     "metadata": {},
     "output_type": "execute_result"
    }
   ],
   "source": [
    "emp1.bonusCalculator()"
   ]
  },
  {
   "cell_type": "code",
   "execution_count": 304,
   "metadata": {},
   "outputs": [],
   "source": [
    "class multiplynumeric():\n",
    "    def __init__(self,a):\n",
    "        self.a = a"
   ]
  },
  {
   "cell_type": "code",
   "execution_count": 305,
   "metadata": {},
   "outputs": [],
   "source": [
    "mul = multiplynumeric(9)\n",
    "mul1 = multiplynumeric(2)"
   ]
  },
  {
   "cell_type": "code",
   "execution_count": 306,
   "metadata": {},
   "outputs": [
    {
     "ename": "TypeError",
     "evalue": "unsupported operand type(s) for *: 'multiplynumeric' and 'multiplynumeric'",
     "output_type": "error",
     "traceback": [
      "\u001b[1;31m---------------------------------------------------------------------------\u001b[0m",
      "\u001b[1;31mTypeError\u001b[0m                                 Traceback (most recent call last)",
      "\u001b[1;32m<ipython-input-306-5c2d38e00671>\u001b[0m in \u001b[0;36m<module>\u001b[1;34m\u001b[0m\n\u001b[1;32m----> 1\u001b[1;33m \u001b[0mmul\u001b[0m \u001b[1;33m*\u001b[0m \u001b[0mmul1\u001b[0m\u001b[1;33m\u001b[0m\u001b[1;33m\u001b[0m\u001b[0m\n\u001b[0m",
      "\u001b[1;31mTypeError\u001b[0m: unsupported operand type(s) for *: 'multiplynumeric' and 'multiplynumeric'"
     ]
    }
   ],
   "source": [
    "mul * mul1"
   ]
  },
  {
   "cell_type": "code",
   "execution_count": 307,
   "metadata": {},
   "outputs": [
    {
     "data": {
      "text/plain": [
       "18"
      ]
     },
     "execution_count": 307,
     "metadata": {},
     "output_type": "execute_result"
    }
   ],
   "source": [
    "mul.a * mul1.a"
   ]
  },
  {
   "cell_type": "code",
   "execution_count": 308,
   "metadata": {},
   "outputs": [],
   "source": [
    "class multiplynumeric():\n",
    "    def __init__(self,a):\n",
    "        self.a = a\n",
    "        \n",
    "    def __mul__(self,other):\n",
    "        \n",
    "        return self.a * other.a"
   ]
  },
  {
   "cell_type": "code",
   "execution_count": 309,
   "metadata": {},
   "outputs": [],
   "source": [
    "mul = multiplynumeric(10)\n",
    "mul1 = multiplynumeric(5)"
   ]
  },
  {
   "cell_type": "code",
   "execution_count": 310,
   "metadata": {},
   "outputs": [
    {
     "data": {
      "text/plain": [
       "50"
      ]
     },
     "execution_count": 310,
     "metadata": {},
     "output_type": "execute_result"
    }
   ],
   "source": [
    "mul * mul1"
   ]
  },
  {
   "cell_type": "code",
   "execution_count": 322,
   "metadata": {},
   "outputs": [],
   "source": [
    "#### operator overloading :- changing the nature of the object like from multiplication to addition\n",
    "\n",
    "class multiplynumeric():\n",
    "    def __init__(self,a):\n",
    "        self.a = a\n",
    "        \n",
    "    def __mul__(self,other):\n",
    "        \n",
    "        ### chaging * by +\n",
    "        return self.a + other.a"
   ]
  },
  {
   "cell_type": "code",
   "execution_count": 315,
   "metadata": {},
   "outputs": [],
   "source": [
    "mul = multiplynumeric(10)\n",
    "mul1 = multiplynumeric(5)"
   ]
  },
  {
   "cell_type": "code",
   "execution_count": 317,
   "metadata": {},
   "outputs": [
    {
     "data": {
      "text/plain": [
       "15"
      ]
     },
     "execution_count": 317,
     "metadata": {},
     "output_type": "execute_result"
    }
   ],
   "source": [
    "## it gives addition result not multiplication\n",
    "mul * mul1"
   ]
  },
  {
   "cell_type": "code",
   "execution_count": 311,
   "metadata": {},
   "outputs": [],
   "source": [
    "class multiplynumeric():\n",
    "    def __init__(self,a):\n",
    "        self.a = a\n",
    "        \n",
    "    def __mul__(self,other):\n",
    "        \n",
    "        return self.a * self.other"
   ]
  },
  {
   "cell_type": "code",
   "execution_count": 312,
   "metadata": {},
   "outputs": [],
   "source": [
    "mul = multiplynumeric(10)\n",
    "mul1 = multiplynumeric(5)"
   ]
  },
  {
   "cell_type": "code",
   "execution_count": 313,
   "metadata": {},
   "outputs": [
    {
     "ename": "AttributeError",
     "evalue": "'multiplynumeric' object has no attribute 'other'",
     "output_type": "error",
     "traceback": [
      "\u001b[1;31m---------------------------------------------------------------------------\u001b[0m",
      "\u001b[1;31mAttributeError\u001b[0m                            Traceback (most recent call last)",
      "\u001b[1;32m<ipython-input-313-5c2d38e00671>\u001b[0m in \u001b[0;36m<module>\u001b[1;34m\u001b[0m\n\u001b[1;32m----> 1\u001b[1;33m \u001b[0mmul\u001b[0m \u001b[1;33m*\u001b[0m \u001b[0mmul1\u001b[0m\u001b[1;33m\u001b[0m\u001b[1;33m\u001b[0m\u001b[0m\n\u001b[0m",
      "\u001b[1;32m<ipython-input-311-613dfcdedef1>\u001b[0m in \u001b[0;36m__mul__\u001b[1;34m(self, other)\u001b[0m\n\u001b[0;32m      5\u001b[0m     \u001b[1;32mdef\u001b[0m \u001b[0m__mul__\u001b[0m\u001b[1;33m(\u001b[0m\u001b[0mself\u001b[0m\u001b[1;33m,\u001b[0m\u001b[0mother\u001b[0m\u001b[1;33m)\u001b[0m\u001b[1;33m:\u001b[0m\u001b[1;33m\u001b[0m\u001b[1;33m\u001b[0m\u001b[0m\n\u001b[0;32m      6\u001b[0m \u001b[1;33m\u001b[0m\u001b[0m\n\u001b[1;32m----> 7\u001b[1;33m         \u001b[1;32mreturn\u001b[0m \u001b[0mself\u001b[0m\u001b[1;33m.\u001b[0m\u001b[0ma\u001b[0m \u001b[1;33m*\u001b[0m \u001b[0mself\u001b[0m\u001b[1;33m.\u001b[0m\u001b[0mother\u001b[0m\u001b[1;33m\u001b[0m\u001b[1;33m\u001b[0m\u001b[0m\n\u001b[0m",
      "\u001b[1;31mAttributeError\u001b[0m: 'multiplynumeric' object has no attribute 'other'"
     ]
    }
   ],
   "source": [
    "mul * mul1"
   ]
  },
  {
   "cell_type": "markdown",
   "metadata": {},
   "source": [
    "#### Polymorphism"
   ]
  },
  {
   "cell_type": "markdown",
   "metadata": {},
   "source": [
    "polymorphism is multiple forms of same object"
   ]
  },
  {
   "cell_type": "code",
   "execution_count": 320,
   "metadata": {},
   "outputs": [],
   "source": [
    "def test(a,b):\n",
    "    return a + b"
   ]
  },
  {
   "cell_type": "code",
   "execution_count": 321,
   "metadata": {},
   "outputs": [
    {
     "name": "stdout",
     "output_type": "stream",
     "text": [
      "11\n",
      "sachin dev\n",
      "[3, 4, 5, 6, 7, 4, 5, 6, 7, 8, 9]\n"
     ]
    }
   ],
   "source": [
    "print(test(5,6))\n",
    "print(test(\"sachin\",\" dev\"))\n",
    "print(test([3,4,5,6,7],[4,5,6,7,8,9]))"
   ]
  },
  {
   "cell_type": "code",
   "execution_count": null,
   "metadata": {},
   "outputs": [],
   "source": []
  },
  {
   "cell_type": "code",
   "execution_count": 323,
   "metadata": {},
   "outputs": [],
   "source": [
    "class Ineuron:\n",
    "    def msg(self):\n",
    "        print(\"This is a mag to ineruonr \")\n",
    "        \n",
    "class xyz:\n",
    "    def msg(self):\n",
    "        print(\"This msg is to xyz\")\n",
    "        \n"
   ]
  },
  {
   "cell_type": "code",
   "execution_count": 324,
   "metadata": {},
   "outputs": [],
   "source": [
    "def test(notes):\n",
    "    notes.msg()"
   ]
  },
  {
   "cell_type": "code",
   "execution_count": 325,
   "metadata": {},
   "outputs": [],
   "source": [
    "i = Ineuron()\n",
    "x = xyz()"
   ]
  },
  {
   "cell_type": "code",
   "execution_count": 326,
   "metadata": {},
   "outputs": [
    {
     "name": "stdout",
     "output_type": "stream",
     "text": [
      "This is a mag to ineruonr \n"
     ]
    }
   ],
   "source": [
    "test(i)"
   ]
  },
  {
   "cell_type": "code",
   "execution_count": 327,
   "metadata": {},
   "outputs": [
    {
     "name": "stdout",
     "output_type": "stream",
     "text": [
      "This msg is to xyz\n"
     ]
    }
   ],
   "source": [
    "test(x)"
   ]
  },
  {
   "cell_type": "code",
   "execution_count": null,
   "metadata": {},
   "outputs": [],
   "source": []
  },
  {
   "cell_type": "markdown",
   "metadata": {},
   "source": [
    "### Scope of a Variable"
   ]
  },
  {
   "cell_type": "markdown",
   "metadata": {},
   "source": [
    "The part of a program where a variable is accessible is called its scope. There are four major types of variable scope and is the basis for the LEGB rule. \n",
    "\n",
    "LEGB stands for Local -> Enclosing -> Global -> Built-in."
   ]
  },
  {
   "cell_type": "markdown",
   "metadata": {},
   "source": [
    "#### Local Scope<br>\n",
    "Whenever you define a variable within a function, its scope lies ONLY within the function. It is accessible from the point at which it is defined until the end of the function and exists for as long as the function is executing. Which means its value cannot be changed or even accessed from outside the function."
   ]
  },
  {
   "cell_type": "code",
   "execution_count": 1,
   "metadata": {},
   "outputs": [
    {
     "name": "stdout",
     "output_type": "stream",
     "text": [
      "Print outside function  20\n"
     ]
    }
   ],
   "source": [
    "def myfunc():\n",
    "    a = 10 ### local variable\n",
    "    print(\"Print inside function: \",a)\n",
    "\n",
    "a = 20\n",
    "print(\"Print outside function \",a)"
   ]
  },
  {
   "cell_type": "code",
   "execution_count": 2,
   "metadata": {},
   "outputs": [
    {
     "name": "stdout",
     "output_type": "stream",
     "text": [
      "Print inside function:  10\n"
     ]
    }
   ],
   "source": [
    "myfunc()"
   ]
  },
  {
   "cell_type": "code",
   "execution_count": 8,
   "metadata": {},
   "outputs": [
    {
     "ename": "NameError",
     "evalue": "name 'b' is not defined",
     "output_type": "error",
     "traceback": [
      "\u001b[1;31m---------------------------------------------------------------------------\u001b[0m",
      "\u001b[1;31mNameError\u001b[0m                                 Traceback (most recent call last)",
      "\u001b[1;32m<ipython-input-8-1c3806d7f028>\u001b[0m in \u001b[0;36m<module>\u001b[1;34m\u001b[0m\n\u001b[0;32m      3\u001b[0m     \u001b[0mprint\u001b[0m\u001b[1;33m(\u001b[0m\u001b[1;34m\"Print inside function: \"\u001b[0m\u001b[1;33m,\u001b[0m\u001b[0mb\u001b[0m\u001b[1;33m)\u001b[0m\u001b[1;33m\u001b[0m\u001b[1;33m\u001b[0m\u001b[0m\n\u001b[0;32m      4\u001b[0m \u001b[1;33m\u001b[0m\u001b[0m\n\u001b[1;32m----> 5\u001b[1;33m \u001b[0mprint\u001b[0m\u001b[1;33m(\u001b[0m\u001b[1;34m\"Print outside function \"\u001b[0m\u001b[1;33m,\u001b[0m\u001b[0mb\u001b[0m\u001b[1;33m)\u001b[0m \u001b[1;31m### here b is not defined as it's a local variable\u001b[0m\u001b[1;33m\u001b[0m\u001b[1;33m\u001b[0m\u001b[0m\n\u001b[0m",
      "\u001b[1;31mNameError\u001b[0m: name 'b' is not defined"
     ]
    }
   ],
   "source": [
    "def myfunc():\n",
    "    b = 30 ### local variable\n",
    "    print(\"Print inside function: \",b)\n",
    "\n",
    "print(\"Print outside function \",b) ### here b is not defined as it's a local variable"
   ]
  },
  {
   "cell_type": "code",
   "execution_count": 9,
   "metadata": {},
   "outputs": [
    {
     "name": "stdout",
     "output_type": "stream",
     "text": [
      "Print inside function:  30\n"
     ]
    }
   ],
   "source": [
    "myfunc()"
   ]
  },
  {
   "cell_type": "markdown",
   "metadata": {},
   "source": [
    "### Enclosing"
   ]
  },
  {
   "cell_type": "code",
   "execution_count": 10,
   "metadata": {},
   "outputs": [
    {
     "name": "stdout",
     "output_type": "stream",
     "text": [
      "first_num from outer:  1\n",
      "second_num from inner:  2\n"
     ]
    },
    {
     "ename": "NameError",
     "evalue": "name 'second_num' is not defined",
     "output_type": "error",
     "traceback": [
      "\u001b[1;31m---------------------------------------------------------------------------\u001b[0m",
      "\u001b[1;31mNameError\u001b[0m                                 Traceback (most recent call last)",
      "\u001b[1;32m<ipython-input-10-1c430167b600>\u001b[0m in \u001b[0;36m<module>\u001b[1;34m\u001b[0m\n\u001b[0;32m     11\u001b[0m     \u001b[0mprint\u001b[0m\u001b[1;33m(\u001b[0m\u001b[1;34m\"second_num from inner: \"\u001b[0m\u001b[1;33m,\u001b[0m \u001b[0msecond_num\u001b[0m\u001b[1;33m)\u001b[0m\u001b[1;33m\u001b[0m\u001b[1;33m\u001b[0m\u001b[0m\n\u001b[0;32m     12\u001b[0m \u001b[1;33m\u001b[0m\u001b[0m\n\u001b[1;32m---> 13\u001b[1;33m \u001b[0mouter\u001b[0m\u001b[1;33m(\u001b[0m\u001b[1;33m)\u001b[0m\u001b[1;33m\u001b[0m\u001b[1;33m\u001b[0m\u001b[0m\n\u001b[0m",
      "\u001b[1;32m<ipython-input-10-1c430167b600>\u001b[0m in \u001b[0;36mouter\u001b[1;34m()\u001b[0m\n\u001b[0;32m      9\u001b[0m     \u001b[0minner\u001b[0m\u001b[1;33m(\u001b[0m\u001b[1;33m)\u001b[0m\u001b[1;33m\u001b[0m\u001b[1;33m\u001b[0m\u001b[0m\n\u001b[0;32m     10\u001b[0m     \u001b[1;31m# Print statement 3 - Scope: Outer\u001b[0m\u001b[1;33m\u001b[0m\u001b[1;33m\u001b[0m\u001b[1;33m\u001b[0m\u001b[0m\n\u001b[1;32m---> 11\u001b[1;33m     \u001b[0mprint\u001b[0m\u001b[1;33m(\u001b[0m\u001b[1;34m\"second_num from inner: \"\u001b[0m\u001b[1;33m,\u001b[0m \u001b[0msecond_num\u001b[0m\u001b[1;33m)\u001b[0m\u001b[1;33m\u001b[0m\u001b[1;33m\u001b[0m\u001b[0m\n\u001b[0m\u001b[0;32m     12\u001b[0m \u001b[1;33m\u001b[0m\u001b[0m\n\u001b[0;32m     13\u001b[0m \u001b[0mouter\u001b[0m\u001b[1;33m(\u001b[0m\u001b[1;33m)\u001b[0m\u001b[1;33m\u001b[0m\u001b[1;33m\u001b[0m\u001b[0m\n",
      "\u001b[1;31mNameError\u001b[0m: name 'second_num' is not defined"
     ]
    }
   ],
   "source": [
    "def outer():\n",
    "    first_num = 1\n",
    "    def inner():\n",
    "        second_num = 2\n",
    "        # Print statement 1 - Scope: Inner\n",
    "        print(\"first_num from outer: \", first_num)\n",
    "        # Print statement 2 - Scope: Inner\n",
    "        print(\"second_num from inner: \", second_num)\n",
    "    inner()\n",
    "    # Print statement 3 - Scope: Outer\n",
    "    print(\"second_num from inner: \", second_num)\n",
    "\n",
    "outer()"
   ]
  },
  {
   "cell_type": "markdown",
   "metadata": {},
   "source": [
    "### nonlocal"
   ]
  },
  {
   "cell_type": "code",
   "execution_count": 11,
   "metadata": {},
   "outputs": [
    {
     "name": "stdout",
     "output_type": "stream",
     "text": [
      "inner - second_num is:  1\n",
      "outer - first_num is:  0\n"
     ]
    }
   ],
   "source": [
    "def outer():\n",
    "    first_num = 1\n",
    "    def inner():\n",
    "        nonlocal first_num\n",
    "        first_num = 0\n",
    "        second_num = 1\n",
    "        print(\"inner - second_num is: \", second_num)\n",
    "    inner()\n",
    "    print(\"outer - first_num is: \", first_num)\n",
    "\n",
    "outer()"
   ]
  },
  {
   "cell_type": "code",
   "execution_count": 13,
   "metadata": {},
   "outputs": [
    {
     "name": "stdout",
     "output_type": "stream",
     "text": [
      "inner - second_num is:  1\n",
      "outer - first_num is:  0\n"
     ]
    }
   ],
   "source": [
    "first_num = 2\n",
    "def outer():\n",
    "    first_num = 1\n",
    "    def inner():\n",
    "        nonlocal first_num\n",
    "        first_num = 0\n",
    "        second_num = 1\n",
    "        print(\"inner - second_num is: \", second_num)\n",
    "    inner()\n",
    "    print(\"outer - first_num is: \", first_num)\n",
    "\n",
    "outer()"
   ]
  },
  {
   "cell_type": "code",
   "execution_count": null,
   "metadata": {},
   "outputs": [],
   "source": []
  }
 ],
 "metadata": {
  "kernelspec": {
   "display_name": "Python 3",
   "language": "python",
   "name": "python3"
  },
  "language_info": {
   "codemirror_mode": {
    "name": "ipython",
    "version": 3
   },
   "file_extension": ".py",
   "mimetype": "text/x-python",
   "name": "python",
   "nbconvert_exporter": "python",
   "pygments_lexer": "ipython3",
   "version": "3.8.5"
  }
 },
 "nbformat": 4,
 "nbformat_minor": 4
}
