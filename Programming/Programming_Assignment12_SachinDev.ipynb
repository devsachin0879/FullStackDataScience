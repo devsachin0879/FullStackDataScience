{
 "cells": [
  {
   "cell_type": "markdown",
   "metadata": {},
   "source": [
    "###### 1.\tWrite a Python program to Extract Unique values dictionary values?"
   ]
  },
  {
   "cell_type": "code",
   "execution_count": 1,
   "metadata": {},
   "outputs": [
    {
     "name": "stdout",
     "output_type": "stream",
     "text": [
      "{7, 10, 'Dhoni', 45, 'Sharma', 'Sachin'}\n"
     ]
    }
   ],
   "source": [
    "d = {'a':\"Sachin\",'b':10,'c':'Dhoni','d':7,'e':'Sharma','f':45,'g':'Sachin','h':10}\n",
    "s = set()\n",
    "for i in d.values():\n",
    "    s.add(i)\n",
    "print(s)"
   ]
  },
  {
   "cell_type": "markdown",
   "metadata": {},
   "source": [
    "###### 2.\tWrite a Python program to find the sum of all items in a dictionary?"
   ]
  },
  {
   "cell_type": "code",
   "execution_count": 9,
   "metadata": {},
   "outputs": [
    {
     "name": "stdout",
     "output_type": "stream",
     "text": [
      "664\n"
     ]
    }
   ],
   "source": [
    "d = {'a':100,'b':10,'c':45,'d':7,'e':264,'f':45,'g':183,'h':10}\n",
    "l = []\n",
    "for i in d.values():\n",
    "    l.append(i)\n",
    "print(sum(l))"
   ]
  },
  {
   "cell_type": "markdown",
   "metadata": {},
   "source": [
    "###### 3.\tWrite a Python program to Merging two Dictionaries?"
   ]
  },
  {
   "cell_type": "code",
   "execution_count": 15,
   "metadata": {},
   "outputs": [
    {
     "data": {
      "text/plain": [
       "{'a': 100, 'b': 200, 'c': 300, 'd': 400}"
      ]
     },
     "execution_count": 15,
     "metadata": {},
     "output_type": "execute_result"
    }
   ],
   "source": [
    "d1 = {'a':100, 'b':200}\n",
    "d2 = {'c':300, 'd':400}\n",
    "d1.update(d2)\n",
    "d1"
   ]
  },
  {
   "cell_type": "markdown",
   "metadata": {},
   "source": [
    "###### 4.Write a Python program to convert key-values list to flat dictionary?"
   ]
  },
  {
   "cell_type": "code",
   "execution_count": 22,
   "metadata": {},
   "outputs": [
    {
     "data": {
      "text/plain": [
       "{'Sachin': 10, 'Dhoni': 7, 'Rohit': 45, 'Kohli': 18}"
      ]
     },
     "execution_count": 22,
     "metadata": {},
     "output_type": "execute_result"
    }
   ],
   "source": [
    "d = {\n",
    "    'Players': ['Sachin','Dhoni','Rohit','Kohli'],\n",
    "    'Numbers': [10,7,45,18]\n",
    "}\n",
    "\n",
    "dict(zip(d['Players'],d['Numbers']))"
   ]
  },
  {
   "cell_type": "markdown",
   "metadata": {},
   "source": [
    "###### 5.\tWrite a Python program to insertion at the beginning in OrderedDict?"
   ]
  },
  {
   "cell_type": "code",
   "execution_count": 26,
   "metadata": {},
   "outputs": [
    {
     "name": "stdout",
     "output_type": "stream",
     "text": [
      "OrderedDict([('Sachin', 10), ('Dhoni', 7), ('Sharma', 45)])\n"
     ]
    }
   ],
   "source": [
    "from collections import OrderedDict\n",
    "\n",
    "d = OrderedDict([('Sachin',10),('Dhoni',7)])\n",
    "\n",
    "d.update({'Sharma':45})\n",
    "print(d)"
   ]
  },
  {
   "cell_type": "markdown",
   "metadata": {},
   "source": [
    "###### 6.\tWrite a Python program to check order of character in string using OrderedDict()?"
   ]
  },
  {
   "cell_type": "code",
   "execution_count": 27,
   "metadata": {},
   "outputs": [
    {
     "name": "stdout",
     "output_type": "stream",
     "text": [
      "{'a': 1000, 'f': 200, 'd': 300, 'c': 400, 'b': 500, 'e': 600}\n",
      "OrderedDict([('a', 1000), ('b', 500), ('c', 400), ('d', 300), ('e', 600), ('f', 200)])\n"
     ]
    }
   ],
   "source": [
    "from collections import OrderedDict\n",
    "\n",
    "initial_list = {'a': 1000, 'f': 200, 'd': 300, 'c': 400, 'b': 500, 'e': 600}\n",
    "print(initial_list)\n",
    "\n",
    "final_list = OrderedDict(dict(sorted(initial_list.items())))\n",
    "print(final_list)"
   ]
  },
  {
   "cell_type": "markdown",
   "metadata": {},
   "source": [
    "###### 7.\tWrite a Python program to sort Python Dictionaries by Key or Value?"
   ]
  },
  {
   "cell_type": "code",
   "execution_count": 29,
   "metadata": {},
   "outputs": [
    {
     "name": "stdout",
     "output_type": "stream",
     "text": [
      "{'a': 100, 'b': 10, 'c': 45, 'd': 7, 'e': 264, 'f': 45, 'g': 183, 'h': 10}\n",
      "{'d': 7, 'b': 10, 'h': 10, 'c': 45, 'f': 45, 'a': 100, 'g': 183, 'e': 264}\n"
     ]
    }
   ],
   "source": [
    "d_items ={'a':100,'b':10,'c':45,'d':7,'e':264,'f':45,'g':183,'h':10}\n",
    "\n",
    "def sort_dict(in_dict,sort_type):\n",
    "    if sort_type == 'key':\n",
    "        print(dict(sorted(in_dict.items(), key=lambda x:x[0], reverse=False)))\n",
    "    else:\n",
    "        print(dict(sorted(in_dict.items(), key=lambda x:x[1], reverse=False)))\n",
    "        \n",
    "sort_dict(d_items,'key')        \n",
    "sort_dict(d_items,'value')"
   ]
  },
  {
   "cell_type": "code",
   "execution_count": null,
   "metadata": {},
   "outputs": [],
   "source": []
  }
 ],
 "metadata": {
  "kernelspec": {
   "display_name": "Python 3",
   "language": "python",
   "name": "python3"
  },
  "language_info": {
   "codemirror_mode": {
    "name": "ipython",
    "version": 3
   },
   "file_extension": ".py",
   "mimetype": "text/x-python",
   "name": "python",
   "nbconvert_exporter": "python",
   "pygments_lexer": "ipython3",
   "version": "3.8.5"
  }
 },
 "nbformat": 4,
 "nbformat_minor": 4
}
