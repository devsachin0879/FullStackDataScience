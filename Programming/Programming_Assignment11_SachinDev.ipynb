{
 "cells": [
  {
   "cell_type": "markdown",
   "metadata": {},
   "source": [
    "###### 1.\tWrite a Python program to find words which are greater than given length k?"
   ]
  },
  {
   "cell_type": "code",
   "execution_count": 4,
   "metadata": {},
   "outputs": [],
   "source": [
    "def find_word():\n",
    "    try:\n",
    "        string = input(\"Please Enter the string: \").split(\" \")\n",
    "        k = int(input(\"Please enter the length: \"))\n",
    "        for i in string:\n",
    "            if len(i) > k:\n",
    "                print(i)\n",
    "    except Exception as e:\n",
    "        print(e)"
   ]
  },
  {
   "cell_type": "code",
   "execution_count": 5,
   "metadata": {},
   "outputs": [
    {
     "name": "stdout",
     "output_type": "stream",
     "text": [
      "Please Enter the string: My Name is Sachin dev\n",
      "Please enter the length: 2\n",
      "Name\n",
      "Sachin\n",
      "dev\n"
     ]
    }
   ],
   "source": [
    "find_word()"
   ]
  },
  {
   "cell_type": "markdown",
   "metadata": {},
   "source": [
    "###### 2.\tWrite a Python program for removing i-th character from a string?"
   ]
  },
  {
   "cell_type": "code",
   "execution_count": 6,
   "metadata": {},
   "outputs": [
    {
     "name": "stdout",
     "output_type": "stream",
     "text": [
      "Please enter the index: 5\n",
      "My Nae is Sachin Dev\n"
     ]
    }
   ],
   "source": [
    "s = \"My Name is Sachin Dev\"\n",
    "k = int(input(\"Please enter the index: \"))\n",
    "print(s[:k] + s[k+1:])"
   ]
  },
  {
   "cell_type": "markdown",
   "metadata": {},
   "source": [
    "###### 3.\tWrite a Python program to split and join a string?"
   ]
  },
  {
   "cell_type": "code",
   "execution_count": 7,
   "metadata": {},
   "outputs": [
    {
     "name": "stdout",
     "output_type": "stream",
     "text": [
      "['My', 'Name', 'is', 'Sachin', 'Dev']\n"
     ]
    },
    {
     "data": {
      "text/plain": [
       "'My-Name-is-Sachin-Dev'"
      ]
     },
     "execution_count": 7,
     "metadata": {},
     "output_type": "execute_result"
    }
   ],
   "source": [
    "s = \"My Name is Sachin Dev\"\n",
    "## splitting the string\n",
    "s = s.split()\n",
    "print(s)\n",
    "\n",
    "## join the stirnf\n",
    "'-'.join(s)"
   ]
  },
  {
   "cell_type": "markdown",
   "metadata": {},
   "source": [
    "###### 4.\tWrite a Python to check if a given string is binary string or not?"
   ]
  },
  {
   "cell_type": "code",
   "execution_count": 8,
   "metadata": {},
   "outputs": [],
   "source": [
    "##binary string should contain 0 or 1 or both\n",
    "\n",
    "def check_string():\n",
    "    s = input(\"Please enter the string: \")\n",
    "    myset = set(s)\n",
    "    \n",
    "    reqset = {'0','1'}\n",
    "    \n",
    "    if myset == reqset or myset == {'0'} or myset == {'1'}:\n",
    "        return True\n",
    "    else:\n",
    "        return False"
   ]
  },
  {
   "cell_type": "code",
   "execution_count": 9,
   "metadata": {},
   "outputs": [
    {
     "name": "stdout",
     "output_type": "stream",
     "text": [
      "Please enter the string: 101010101111110110\n"
     ]
    },
    {
     "data": {
      "text/plain": [
       "True"
      ]
     },
     "execution_count": 9,
     "metadata": {},
     "output_type": "execute_result"
    }
   ],
   "source": [
    "check_string()"
   ]
  },
  {
   "cell_type": "code",
   "execution_count": 10,
   "metadata": {},
   "outputs": [
    {
     "name": "stdout",
     "output_type": "stream",
     "text": [
      "Please enter the string: 1111111111\n"
     ]
    },
    {
     "data": {
      "text/plain": [
       "True"
      ]
     },
     "execution_count": 10,
     "metadata": {},
     "output_type": "execute_result"
    }
   ],
   "source": [
    "check_string()"
   ]
  },
  {
   "cell_type": "code",
   "execution_count": 11,
   "metadata": {},
   "outputs": [
    {
     "name": "stdout",
     "output_type": "stream",
     "text": [
      "Please enter the string: 0000000\n"
     ]
    },
    {
     "data": {
      "text/plain": [
       "True"
      ]
     },
     "execution_count": 11,
     "metadata": {},
     "output_type": "execute_result"
    }
   ],
   "source": [
    "check_string()"
   ]
  },
  {
   "cell_type": "code",
   "execution_count": 12,
   "metadata": {},
   "outputs": [
    {
     "name": "stdout",
     "output_type": "stream",
     "text": [
      "Please enter the string: 12341568413\n"
     ]
    },
    {
     "data": {
      "text/plain": [
       "False"
      ]
     },
     "execution_count": 12,
     "metadata": {},
     "output_type": "execute_result"
    }
   ],
   "source": [
    "check_string()"
   ]
  },
  {
   "cell_type": "code",
   "execution_count": 13,
   "metadata": {},
   "outputs": [
    {
     "name": "stdout",
     "output_type": "stream",
     "text": [
      "Please enter the string: dswiugdfabjkhg\n"
     ]
    },
    {
     "data": {
      "text/plain": [
       "False"
      ]
     },
     "execution_count": 13,
     "metadata": {},
     "output_type": "execute_result"
    }
   ],
   "source": [
    "check_string()"
   ]
  },
  {
   "cell_type": "markdown",
   "metadata": {},
   "source": [
    "###### 5.\tWrite a Python program to find uncommon words from two Strings?"
   ]
  },
  {
   "cell_type": "code",
   "execution_count": 16,
   "metadata": {},
   "outputs": [],
   "source": [
    "def find_unique():\n",
    "    s1 = input(\"Please enter string1: \").split()\n",
    "    s2 = input(\"Please enter string2: \").split()\n",
    "    \n",
    "    myset1 = set(s1) \n",
    "    myset2 = set(s2)\n",
    "    ###combining both sets\n",
    "    myset3 = myset1.union(myset2)\n",
    "    \n",
    "    for i in myset3:\n",
    "        if i not in s1 or i not in s2:\n",
    "            print(i)"
   ]
  },
  {
   "cell_type": "code",
   "execution_count": 17,
   "metadata": {},
   "outputs": [
    {
     "name": "stdout",
     "output_type": "stream",
     "text": [
      "Please enter string1: MSdhoni Kohli Rohit\n",
      "Please enter string2: Shikhar Kohli Rohit\n",
      "MSdhoni\n",
      "Shikhar\n"
     ]
    }
   ],
   "source": [
    "find_unique()"
   ]
  },
  {
   "cell_type": "markdown",
   "metadata": {},
   "source": [
    "###### 6.\tWrite a Python to find all duplicate characters in string?"
   ]
  },
  {
   "cell_type": "code",
   "execution_count": 25,
   "metadata": {},
   "outputs": [],
   "source": [
    "def find_dup():\n",
    "    s1 = input(\"Please enter string1: \").split()\n",
    "    s2 = input(\"Please enter string2: \").split()\n",
    "    \n",
    "    myset1 = set(s1) \n",
    "    myset2 = set(s2)\n",
    "    ###combining both sets\n",
    "    myset3 = myset1.union(myset2)\n",
    "    \n",
    "    for i in myset3:\n",
    "        if i in s1 and i in s2:\n",
    "            print(i)"
   ]
  },
  {
   "cell_type": "code",
   "execution_count": 26,
   "metadata": {},
   "outputs": [
    {
     "name": "stdout",
     "output_type": "stream",
     "text": [
      "Please enter string1: MSdhoni Kohli Rohit\n",
      "Please enter string2: Shikhar Kohli Rohit\n",
      "Rohit\n",
      "Kohli\n"
     ]
    }
   ],
   "source": [
    "find_dup()"
   ]
  },
  {
   "cell_type": "markdown",
   "metadata": {},
   "source": [
    "###### 7.\tWrite a Python Program to check if a string contains any special character?"
   ]
  },
  {
   "cell_type": "code",
   "execution_count": 37,
   "metadata": {},
   "outputs": [],
   "source": [
    "import re\n",
    "def checkSpecial():\n",
    "    s = input(\"PLease enter a string: \")\n",
    "    regex = \"[^a-zA-Z0-9]+\"\n",
    " \n",
    "    # Compile the ReGex\n",
    "    p=re.compile(regex)\n",
    " \n",
    "    # If the string is empty\n",
    "    # then print No\n",
    "    if(len(s) == 0):\n",
    "        print(\"No\")\n",
    "        return\n",
    " \n",
    "    # Print Yes If the string matches\n",
    "    # with the Regex\n",
    "    if(re.search(p, s)):\n",
    "        print(\"Yes\")\n",
    "    else:\n",
    "        print(\"No\")"
   ]
  },
  {
   "cell_type": "code",
   "execution_count": 38,
   "metadata": {},
   "outputs": [
    {
     "name": "stdout",
     "output_type": "stream",
     "text": [
      "PLease enter a string: safdhjkgvladfs32456238#$%&#$%*&+-dshjg\n",
      "Yes\n"
     ]
    }
   ],
   "source": [
    "checkSpecial()"
   ]
  },
  {
   "cell_type": "code",
   "execution_count": 39,
   "metadata": {},
   "outputs": [
    {
     "name": "stdout",
     "output_type": "stream",
     "text": [
      "PLease enter a string: My Name is Sachin Dev\n",
      "Yes\n"
     ]
    }
   ],
   "source": [
    "checkSpecial()"
   ]
  },
  {
   "cell_type": "code",
   "execution_count": 40,
   "metadata": {},
   "outputs": [
    {
     "name": "stdout",
     "output_type": "stream",
     "text": [
      "PLease enter a string: dshjckgvdjfhgv\n",
      "No\n"
     ]
    }
   ],
   "source": [
    "checkSpecial()"
   ]
  },
  {
   "cell_type": "code",
   "execution_count": null,
   "metadata": {},
   "outputs": [],
   "source": []
  }
 ],
 "metadata": {
  "kernelspec": {
   "display_name": "Python 3",
   "language": "python",
   "name": "python3"
  },
  "language_info": {
   "codemirror_mode": {
    "name": "ipython",
    "version": 3
   },
   "file_extension": ".py",
   "mimetype": "text/x-python",
   "name": "python",
   "nbconvert_exporter": "python",
   "pygments_lexer": "ipython3",
   "version": "3.8.5"
  }
 },
 "nbformat": 4,
 "nbformat_minor": 4
}
